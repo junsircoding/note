{
 "cells": [
  {
   "cell_type": "markdown",
   "metadata": {},
   "source": [
    "Web 框架中读取上下文"
   ]
  },
  {
   "cell_type": "code",
   "execution_count": null,
   "metadata": {},
   "outputs": [],
   "source": [
    "import os\n",
    "import sys\n",
    "\n",
    "\n",
    "# 当前文件绝对路径\n",
    "pwd = os.path.dirname(os.path.abspath(__file__))\n",
    "# 分拆\n",
    "path_list = pwd.split(os.sep)\n",
    "# 取当前目录, 即在路径中去掉当前文件名称\n",
    "path = os.sep.join(path_list[:-1])\n",
    "# 将当前目录加入环境变量\n",
    "sys.path.insert(0, os.path.join(path))"
   ]
  }
 ],
 "metadata": {
  "interpreter": {
   "hash": "3160b320a3d098505f6069b13711aa208a544b025e74a1c73de7d3971407adcc"
  },
  "kernelspec": {
   "display_name": "Python 3.9.10 ('base')",
   "language": "python",
   "name": "python3"
  },
  "language_info": {
   "name": "python",
   "version": "3.9.10"
  },
  "orig_nbformat": 4
 },
 "nbformat": 4,
 "nbformat_minor": 2
}
