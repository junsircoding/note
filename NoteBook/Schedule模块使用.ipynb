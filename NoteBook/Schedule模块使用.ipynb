{
 "cells": [
  {
   "cell_type": "code",
   "execution_count": 2,
   "metadata": {},
   "outputs": [
    {
     "name": "stdout",
     "output_type": "stream",
     "text": [
      "do func2 time : 2022-06-07 09:33:24\n",
      "do func2 time : 2022-06-07 09:33:25\n",
      "do func2 time : 2022-06-07 09:33:26\n",
      "do func2 time : 2022-06-07 09:33:27\n",
      "do func2 time : 2022-06-07 09:33:28\n",
      "do func2 time : 2022-06-07 09:33:29\n",
      "do func2 time : 2022-06-07 09:33:30\n",
      "do func2 time : 2022-06-07 09:33:31\n",
      "do func2 time : 2022-06-07 09:33:32\n"
     ]
    }
   ],
   "source": [
    "import datetime\n",
    "import schedule\n",
    "import time\n",
    "\n",
    "\n",
    "def func():\n",
    "    \"\"\"\n",
    "    打印执行函数的时间\n",
    "    \"\"\"\n",
    "    now = datetime.datetime.now()\n",
    "    ts = now.strftime('%Y-%m-%d %H:%M:%S')\n",
    "    print('do func time :', ts)\n",
    "\n",
    "\n",
    "def func2():\n",
    "    \"\"\"\n",
    "    打印执行函数的时间\n",
    "    \"\"\"\n",
    "    now = datetime.datetime.now()\n",
    "    ts = now.strftime('%Y-%m-%d %H:%M:%S')\n",
    "    print('do func2 time :', ts)\n",
    "\n",
    "\n",
    "def tasklist():\n",
    "    schedule.clear()\n",
    "    schedule.every(1).seconds.do(func2)\n",
    "    for i in range(10):\n",
    "        schedule.run_pending()\n",
    "        time.sleep(1)\n",
    "\n",
    "\n",
    "tasklist()\n"
   ]
  }
 ],
 "metadata": {
  "interpreter": {
   "hash": "3160b320a3d098505f6069b13711aa208a544b025e74a1c73de7d3971407adcc"
  },
  "kernelspec": {
   "display_name": "Python 3.9.10 ('base')",
   "language": "python",
   "name": "python3"
  },
  "language_info": {
   "codemirror_mode": {
    "name": "ipython",
    "version": 3
   },
   "file_extension": ".py",
   "mimetype": "text/x-python",
   "name": "python",
   "nbconvert_exporter": "python",
   "pygments_lexer": "ipython3",
   "version": "3.9.13"
  },
  "orig_nbformat": 4
 },
 "nbformat": 4,
 "nbformat_minor": 2
}
