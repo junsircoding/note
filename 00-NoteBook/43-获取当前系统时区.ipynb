{
 "cells": [
  {
   "cell_type": "code",
   "execution_count": 1,
   "metadata": {},
   "outputs": [
    {
     "name": "stdout",
     "output_type": "stream",
     "text": [
      "CST\n"
     ]
    }
   ],
   "source": [
    "import time \n",
    "\n",
    "s = time.strftime(\"%Z\", time.localtime()) \n",
    "print(s) # UTC "
   ]
  }
 ],
 "metadata": {
  "kernelspec": {
   "display_name": "Python 3.8.13 ('ai')",
   "language": "python",
   "name": "python3"
  },
  "language_info": {
   "codemirror_mode": {
    "name": "ipython",
    "version": 3
   },
   "file_extension": ".py",
   "mimetype": "text/x-python",
   "name": "python",
   "nbconvert_exporter": "python",
   "pygments_lexer": "ipython3",
   "version": "3.8.13"
  },
  "orig_nbformat": 4,
  "vscode": {
   "interpreter": {
    "hash": "60cfda3c7ac684d9bc0cdf7cf145aaa7d8d0ca905038e7f8712bc069ef315d39"
   }
  }
 },
 "nbformat": 4,
 "nbformat_minor": 2
}
