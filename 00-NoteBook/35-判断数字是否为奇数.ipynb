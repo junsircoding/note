{
 "cells": [
  {
   "cell_type": "markdown",
   "metadata": {},
   "source": [
    "◇filter(func, iter)\n",
    "\n",
    "    参数含义同 map\n",
    "    filter() 会把 iter 的每个元素传给 func，如果 func 返回结果为 True，就把元素保存在一个 list 中，最后返回此 list。\n",
    "    举例:\n",
    "    要过滤出所有奇数，代码如下:\n",
    "\n",
    "filter(odd, [1, 2, 3])  # 返回[1, 3]\n",
    "\n",
    "\n",
    "Python 中的 filter 函数非常有用。使用 filter 函数可以从一个数据集里面筛选出我们想要的数据，而这个筛选规则可以自定义。\n",
    "filter 函数有两个参数，第一个是自定义的筛选规则函数，第二个是数据集。\n",
    "比如我们要筛选出一个列表中的偶数，可以先定义一个判断数字是否为奇数的函数\n",
    "\n",
    "\n",
    "一个数据集为\n",
    "\n",
    "那么 filter 可以这样使用\n",
    "filter(is_odd, dada)\n",
    "\n",
    "此处可以用上 lambda，把代码简化为一行:\n",
    "filter(lambda n: (n%2)==1, lst)"
   ]
  },
  {
   "cell_type": "code",
   "execution_count": null,
   "metadata": {},
   "outputs": [],
   "source": [
    "def is_odd(num: int) -> bool:\n",
    "    \"\"\"\n",
    "    判断数字是否为奇数\n",
    "    \"\"\"\n",
    "    return (num % 2) == 1\n",
    "\n",
    "\n",
    "data = [1, 2, 3, 4, 5, 6, 7, 8, 9]\n",
    "\n",
    "result = filter(is_odd, data)"
   ]
  }
 ],
 "metadata": {
  "interpreter": {
   "hash": "3160b320a3d098505f6069b13711aa208a544b025e74a1c73de7d3971407adcc"
  },
  "kernelspec": {
   "display_name": "Python 3.9.10 ('base')",
   "language": "python",
   "name": "python3"
  },
  "language_info": {
   "name": "python",
   "version": "3.9.10"
  },
  "orig_nbformat": 4
 },
 "nbformat": 4,
 "nbformat_minor": 2
}
