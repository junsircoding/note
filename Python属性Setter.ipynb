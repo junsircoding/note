{
 "cells": [
  {
   "cell_type": "code",
   "execution_count": 1,
   "metadata": {},
   "outputs": [
    {
     "name": "stdout",
     "output_type": "stream",
     "text": [
      "resolution = 786432\n",
      "测试通过!\n"
     ]
    }
   ],
   "source": [
    "class Screen(object):\n",
    "    # def __init__(self, width, height, resolution):\n",
    "    #     self.__width = width\n",
    "    #     self.__height = height\n",
    "    #     self.resolution = self.__width * self.__height\n",
    "\n",
    "    @property\n",
    "    def width(self):\n",
    "        return self.__width\n",
    "\n",
    "    @width.setter\n",
    "    def width(self, width):\n",
    "        if width < 0:\n",
    "            raise ValueError('worng')\n",
    "        self.__width = width\n",
    "\n",
    "    @property\n",
    "    def height(self):\n",
    "        return self.__height\n",
    "\n",
    "    @height.setter\n",
    "    def height(self, height):\n",
    "        if height < 0:\n",
    "            raise ValueError('worng')\n",
    "        self.__height = height\n",
    "\n",
    "    @property\n",
    "    def resolution(self):\n",
    "        return self.__width * self.__height\n",
    "\n",
    "\n",
    "s = Screen()\n",
    "s.width = 1024\n",
    "s.height = 768\n",
    "print('resolution =', s.resolution)\n",
    "if s.resolution == 786432:\n",
    "    print('测试通过!')\n",
    "else:\n",
    "    print('测试失败!')\n"
   ]
  }
 ],
 "metadata": {
  "interpreter": {
   "hash": "3160b320a3d098505f6069b13711aa208a544b025e74a1c73de7d3971407adcc"
  },
  "kernelspec": {
   "display_name": "Python 3.9.10 ('base')",
   "language": "python",
   "name": "python3"
  },
  "language_info": {
   "codemirror_mode": {
    "name": "ipython",
    "version": 3
   },
   "file_extension": ".py",
   "mimetype": "text/x-python",
   "name": "python",
   "nbconvert_exporter": "python",
   "pygments_lexer": "ipython3",
   "version": "3.9.10"
  },
  "orig_nbformat": 4
 },
 "nbformat": 4,
 "nbformat_minor": 2
}
