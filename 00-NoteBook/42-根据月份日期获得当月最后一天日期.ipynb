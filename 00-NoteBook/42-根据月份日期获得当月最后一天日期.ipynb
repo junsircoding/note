{
 "cells": [
  {
   "cell_type": "code",
   "execution_count": 1,
   "metadata": {},
   "outputs": [
    {
     "name": "stdout",
     "output_type": "stream",
     "text": [
      "20220331\n",
      "20220430\n",
      "20220531\n",
      "20220630\n",
      "20220731\n"
     ]
    }
   ],
   "source": [
    "# coding: utf-8 \n",
    "\n",
    "import datetime \n",
    "\n",
    " \n",
    "\n",
    "def last_day_of_month(any_day): \n",
    "    \"\"\"获得一个月中的最后一天 \n",
    "\n",
    "    Args: \n",
    "        any_day: 任意日期 \n",
    "    Returns: \n",
    "        (str): 最后一天, 格式为`年月日` \n",
    "    \"\"\" \n",
    "    next_month = any_day.replace(day=28) + datetime.timedelta(days=4) \n",
    "    result_utc = next_month - datetime.timedelta(days=next_month.day) \n",
    "    result = datetime.datetime.strftime(result_utc, \"%Y%m%d\") \n",
    "    return result \n",
    "\n",
    " \n",
    "\n",
    "if __name__ == \"__main__\": \n",
    "    for date in [\"202203\",\"202204\",\"202205\",\"202206\",\"202207\",]: \n",
    "        res = last_day_of_month(datetime.datetime.strptime(date, \"%Y%m\")) \n",
    "        print(res) "
   ]
  }
 ],
 "metadata": {
  "kernelspec": {
   "display_name": "Python 3.8.13 ('ai')",
   "language": "python",
   "name": "python3"
  },
  "language_info": {
   "codemirror_mode": {
    "name": "ipython",
    "version": 3
   },
   "file_extension": ".py",
   "mimetype": "text/x-python",
   "name": "python",
   "nbconvert_exporter": "python",
   "pygments_lexer": "ipython3",
   "version": "3.8.13"
  },
  "orig_nbformat": 4,
  "vscode": {
   "interpreter": {
    "hash": "60cfda3c7ac684d9bc0cdf7cf145aaa7d8d0ca905038e7f8712bc069ef315d39"
   }
  }
 },
 "nbformat": 4,
 "nbformat_minor": 2
}
