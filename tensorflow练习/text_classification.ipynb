{
 "cells": [
  {
   "cell_type": "markdown",
   "metadata": {
    "id": "Ic4_occAAiAT"
   },
   "source": [
    "##### Copyright 2018 The TensorFlow Authors."
   ]
  },
  {
   "cell_type": "code",
   "execution_count": 1,
   "metadata": {
    "cellView": "form",
    "execution": {
     "iopub.execute_input": "2020-09-22T22:16:52.177531Z",
     "iopub.status.busy": "2020-09-22T22:16:52.176817Z",
     "iopub.status.idle": "2020-09-22T22:16:52.179690Z",
     "shell.execute_reply": "2020-09-22T22:16:52.179061Z"
    },
    "id": "ioaprt5q5US7"
   },
   "outputs": [],
   "source": [
    "#@title Licensed under the Apache License, Version 2.0 (the \"License\");\n",
    "# you may not use this file except in compliance with the License.\n",
    "# You may obtain a copy of the License at\n",
    "#\n",
    "# https://www.apache.org/licenses/LICENSE-2.0\n",
    "#\n",
    "# Unless required by applicable law or agreed to in writing, software\n",
    "# distributed under the License is distributed on an \"AS IS\" BASIS,\n",
    "# WITHOUT WARRANTIES OR CONDITIONS OF ANY KIND, either express or implied.\n",
    "# See the License for the specific language governing permissions and\n",
    "# limitations under the License."
   ]
  },
  {
   "cell_type": "code",
   "execution_count": 2,
   "metadata": {
    "cellView": "form",
    "execution": {
     "iopub.execute_input": "2020-09-22T22:16:52.183783Z",
     "iopub.status.busy": "2020-09-22T22:16:52.183049Z",
     "iopub.status.idle": "2020-09-22T22:16:52.185671Z",
     "shell.execute_reply": "2020-09-22T22:16:52.185044Z"
    },
    "id": "yCl0eTNH5RS3"
   },
   "outputs": [],
   "source": [
    "#@title MIT License\n",
    "#\n",
    "# Copyright (c) 2017 François Chollet\n",
    "#\n",
    "# Permission is hereby granted, free of charge, to any person obtaining a\n",
    "# copy of this software and associated documentation files (the \"Software\"),\n",
    "# to deal in the Software without restriction, including without limitation\n",
    "# the rights to use, copy, modify, merge, publish, distribute, sublicense,\n",
    "# and/or sell copies of the Software, and to permit persons to whom the\n",
    "# Software is furnished to do so, subject to the following conditions:\n",
    "#\n",
    "# The above copyright notice and this permission notice shall be included in\n",
    "# all copies or substantial portions of the Software.\n",
    "#\n",
    "# THE SOFTWARE IS PROVIDED \"AS IS\", WITHOUT WARRANTY OF ANY KIND, EXPRESS OR\n",
    "# IMPLIED, INCLUDING BUT NOT LIMITED TO THE WARRANTIES OF MERCHANTABILITY,\n",
    "# FITNESS FOR A PARTICULAR PURPOSE AND NONINFRINGEMENT. IN NO EVENT SHALL\n",
    "# THE AUTHORS OR COPYRIGHT HOLDERS BE LIABLE FOR ANY CLAIM, DAMAGES OR OTHER\n",
    "# LIABILITY, WHETHER IN AN ACTION OF CONTRACT, TORT OR OTHERWISE, ARISING\n",
    "# FROM, OUT OF OR IN CONNECTION WITH THE SOFTWARE OR THE USE OR OTHER\n",
    "# DEALINGS IN THE SOFTWARE."
   ]
  },
  {
   "cell_type": "markdown",
   "metadata": {
    "id": "ItXfxkxvosLH"
   },
   "source": [
    "# 电影评论文本分类"
   ]
  },
  {
   "cell_type": "markdown",
   "metadata": {
    "id": "hKY4XMc9o8iB"
   },
   "source": [
    "<table class=\"tfo-notebook-buttons\" align=\"left\">\n",
    "  <td>\n",
    "    <a target=\"_blank\" href=\"https://tensorflow.google.cn/tutorials/keras/text_classification\"><img src=\"https://tensorflow.google.cn/images/tf_logo_32px.png\" />在 tensorFlow.google.cn 上查看</a>\n",
    "  </td>\n",
    "  <td>\n",
    "    <a target=\"_blank\" href=\"https://colab.research.google.com/github/tensorflow/docs-l10n/blob/master/site/zh-cn/tutorials/keras/text_classification.ipynb\"><img src=\"https://tensorflow.google.cn/images/colab_logo_32px.png\" />在 Google Colab 中运行</a>\n",
    "  </td>\n",
    "  <td>\n",
    "    <a target=\"_blank\" href=\"https://github.com/tensorflow/docs-l10n/blob/master/site/zh-cn/tutorials/keras/text_classification.ipynb\"><img src=\"https://tensorflow.google.cn/images/GitHub-Mark-32px.png\" />在 GitHub 上查看源代码</a>\n",
    "  </td>\n",
    "  <td>\n",
    "    <a href=\"https://storage.googleapis.com/tensorflow_docs/docs-l10n/site/zh-cn/tutorials/keras/text_classification.ipynb\"><img src=\"https://tensorflow.google.cn/images/download_logo_32px.png\" />下载 notebook</a>\n",
    "  </td>\n",
    "</table>"
   ]
  },
  {
   "cell_type": "markdown",
   "metadata": {
    "id": "GEe3i16tQPjo"
   },
   "source": [
    "Note: 我们的 TensorFlow 社区翻译了这些文档。因为社区翻译是尽力而为， 所以无法保证它们是最准确的，并且反映了最新的\n",
    "[官方英文文档](https://tensorflow.google.cn/?hl=en)。如果您有改进此翻译的建议， 请提交 pull request 到\n",
    "[tensorflow/docs](https://github.com/tensorflow/docs) GitHub 仓库。要志愿地撰写或者审核译文，请加入\n",
    "[docs-zh-cn@tensorflow.org Google Group](https://groups.google.com/a/tensorflow.org/forum/#!forum/docs-zh-cn)。"
   ]
  },
  {
   "cell_type": "markdown",
   "metadata": {
    "id": "Eg62Pmz3o83v"
   },
   "source": [
    "此笔记本（notebook）使用评论文本将影评分为*积极（positive）*或*消极（nagetive）*两类。这是一个*二元（binary）*或者二分类问题，一种重要且应用广泛的机器学习问题。\n",
    "\n",
    "我们将使用来源于[网络电影数据库（Internet Movie Database）](https://www.imdb.com/)的 [IMDB 数据集（IMDB dataset）](https://tensorflow.google.cn/api_docs/python/tf/keras/datasets/imdb)，其包含 50,000 条影评文本。从该数据集切割出的25,000条评论用作训练，另外 25,000 条用作测试。训练集与测试集是*平衡的（balanced）*，意味着它们包含相等数量的积极和消极评论。\n",
    "\n",
    "此笔记本（notebook）使用了 [tf.keras](https://tensorflow.google.cn/guide/keras)，它是一个 Tensorflow 中用于构建和训练模型的高级API。有关使用 `tf.keras` 进行文本分类的更高级教程，请参阅 [MLCC文本分类指南（MLCC Text Classification Guide）](https://developers.google.com/machine-learning/guides/text-classification/)。"
   ]
  },
  {
   "cell_type": "code",
   "execution_count": 1,
   "metadata": {
    "execution": {
     "iopub.execute_input": "2020-09-22T22:16:52.190518Z",
     "iopub.status.busy": "2020-09-22T22:16:52.189793Z",
     "iopub.status.idle": "2020-09-22T22:16:58.513281Z",
     "shell.execute_reply": "2020-09-22T22:16:58.513825Z"
    },
    "id": "2ew7HTbPpCJH"
   },
   "outputs": [
    {
     "name": "stdout",
     "output_type": "stream",
     "text": [
      "2.8.0\n"
     ]
    }
   ],
   "source": [
    "import tensorflow as tf\n",
    "from tensorflow import keras\n",
    "\n",
    "import numpy as np\n",
    "\n",
    "print(tf.__version__)"
   ]
  },
  {
   "cell_type": "markdown",
   "metadata": {
    "id": "iAsKG535pHep"
   },
   "source": [
    "## 下载 IMDB 数据集\n",
    "\n",
    "IMDB 数据集已经打包在 Tensorflow 中。该数据集已经经过预处理，评论（单词序列）已经被转换为整数序列，其中每个整数表示字典中的特定单词。\n",
    "\n",
    "以下代码将下载 IMDB 数据集到您的机器上（如果您已经下载过将从缓存中复制）："
   ]
  },
  {
   "cell_type": "code",
   "execution_count": 2,
   "metadata": {
    "execution": {
     "iopub.execute_input": "2020-09-22T22:16:58.519977Z",
     "iopub.status.busy": "2020-09-22T22:16:58.519326Z",
     "iopub.status.idle": "2020-09-22T22:17:04.121918Z",
     "shell.execute_reply": "2020-09-22T22:17:04.121302Z"
    },
    "id": "zXXx5Oc3pOmN"
   },
   "outputs": [
    {
     "name": "stdout",
     "output_type": "stream",
     "text": [
      "Downloading data from https://storage.googleapis.com/tensorflow/tf-keras-datasets/imdb.npz\n",
      "17465344/17464789 [==============================] - 2s 0us/step\n",
      "17473536/17464789 [==============================] - 2s 0us/step\n"
     ]
    }
   ],
   "source": [
    "imdb = keras.datasets.imdb\n",
    "\n",
    "(train_data, train_labels), (test_data, test_labels) = imdb.load_data(num_words=10000)"
   ]
  },
  {
   "cell_type": "markdown",
   "metadata": {
    "id": "odr-KlzO-lkL"
   },
   "source": [
    "参数 `num_words=10000` 保留了训练数据中最常出现的 10,000 个单词。为了保持数据规模的可管理性，低频词将被丢弃。\n"
   ]
  },
  {
   "cell_type": "markdown",
   "metadata": {
    "id": "l50X3GfjpU4r"
   },
   "source": [
    "## 探索数据\n",
    "\n",
    "让我们花一点时间来了解数据格式。该数据集是经过预处理的：每个样本都是一个表示影评中词汇的整数数组。每个标签都是一个值为 0 或 1 的整数值，其中 0 代表消极评论，1 代表积极评论。"
   ]
  },
  {
   "cell_type": "code",
   "execution_count": 3,
   "metadata": {
    "execution": {
     "iopub.execute_input": "2020-09-22T22:17:04.127489Z",
     "iopub.status.busy": "2020-09-22T22:17:04.126774Z",
     "iopub.status.idle": "2020-09-22T22:17:04.129231Z",
     "shell.execute_reply": "2020-09-22T22:17:04.129764Z"
    },
    "id": "y8qCnve_-lkO"
   },
   "outputs": [
    {
     "name": "stdout",
     "output_type": "stream",
     "text": [
      "Training entries: 25000, labels: 25000\n"
     ]
    }
   ],
   "source": [
    "print(\"Training entries: {}, labels: {}\".format(len(train_data), len(train_labels)))"
   ]
  },
  {
   "cell_type": "markdown",
   "metadata": {
    "id": "RnKvHWW4-lkW"
   },
   "source": [
    "评论文本被转换为整数值，其中每个整数代表词典中的一个单词。首条评论是这样的："
   ]
  },
  {
   "cell_type": "code",
   "execution_count": 4,
   "metadata": {
    "execution": {
     "iopub.execute_input": "2020-09-22T22:17:04.134414Z",
     "iopub.status.busy": "2020-09-22T22:17:04.133657Z",
     "iopub.status.idle": "2020-09-22T22:17:04.136194Z",
     "shell.execute_reply": "2020-09-22T22:17:04.136738Z"
    },
    "id": "QtTS4kpEpjbi"
   },
   "outputs": [
    {
     "name": "stdout",
     "output_type": "stream",
     "text": [
      "[1, 14, 22, 16, 43, 530, 973, 1622, 1385, 65, 458, 4468, 66, 3941, 4, 173, 36, 256, 5, 25, 100, 43, 838, 112, 50, 670, 2, 9, 35, 480, 284, 5, 150, 4, 172, 112, 167, 2, 336, 385, 39, 4, 172, 4536, 1111, 17, 546, 38, 13, 447, 4, 192, 50, 16, 6, 147, 2025, 19, 14, 22, 4, 1920, 4613, 469, 4, 22, 71, 87, 12, 16, 43, 530, 38, 76, 15, 13, 1247, 4, 22, 17, 515, 17, 12, 16, 626, 18, 2, 5, 62, 386, 12, 8, 316, 8, 106, 5, 4, 2223, 5244, 16, 480, 66, 3785, 33, 4, 130, 12, 16, 38, 619, 5, 25, 124, 51, 36, 135, 48, 25, 1415, 33, 6, 22, 12, 215, 28, 77, 52, 5, 14, 407, 16, 82, 2, 8, 4, 107, 117, 5952, 15, 256, 4, 2, 7, 3766, 5, 723, 36, 71, 43, 530, 476, 26, 400, 317, 46, 7, 4, 2, 1029, 13, 104, 88, 4, 381, 15, 297, 98, 32, 2071, 56, 26, 141, 6, 194, 7486, 18, 4, 226, 22, 21, 134, 476, 26, 480, 5, 144, 30, 5535, 18, 51, 36, 28, 224, 92, 25, 104, 4, 226, 65, 16, 38, 1334, 88, 12, 16, 283, 5, 16, 4472, 113, 103, 32, 15, 16, 5345, 19, 178, 32]\n"
     ]
    }
   ],
   "source": [
    "print(train_data[0])"
   ]
  },
  {
   "cell_type": "markdown",
   "metadata": {
    "id": "hIE4l_72x7DP"
   },
   "source": [
    "电影评论可能具有不同的长度。以下代码显示了第一条和第二条评论的中单词数量。由于神经网络的输入必须是统一的长度，我们稍后需要解决这个问题。"
   ]
  },
  {
   "cell_type": "code",
   "execution_count": 5,
   "metadata": {
    "execution": {
     "iopub.execute_input": "2020-09-22T22:17:04.146413Z",
     "iopub.status.busy": "2020-09-22T22:17:04.145532Z",
     "iopub.status.idle": "2020-09-22T22:17:04.149369Z",
     "shell.execute_reply": "2020-09-22T22:17:04.149891Z"
    },
    "id": "X-6Ii9Pfx6Nr"
   },
   "outputs": [
    {
     "data": {
      "text/plain": [
       "(218, 189)"
      ]
     },
     "execution_count": 5,
     "metadata": {},
     "output_type": "execute_result"
    }
   ],
   "source": [
    "len(train_data[0]), len(train_data[1])"
   ]
  },
  {
   "cell_type": "markdown",
   "metadata": {
    "id": "4wJg2FiYpuoX"
   },
   "source": [
    "### 将整数转换回单词\n",
    "\n",
    "了解如何将整数转换回文本对您可能是有帮助的。这里我们将创建一个辅助函数来查询一个包含了整数到字符串映射的字典对象："
   ]
  },
  {
   "cell_type": "code",
   "execution_count": 6,
   "metadata": {
    "execution": {
     "iopub.execute_input": "2020-09-22T22:17:04.156132Z",
     "iopub.status.busy": "2020-09-22T22:17:04.155418Z",
     "iopub.status.idle": "2020-09-22T22:17:04.393974Z",
     "shell.execute_reply": "2020-09-22T22:17:04.394464Z"
    },
    "id": "tr5s_1alpzop"
   },
   "outputs": [
    {
     "name": "stdout",
     "output_type": "stream",
     "text": [
      "Downloading data from https://storage.googleapis.com/tensorflow/tf-keras-datasets/imdb_word_index.json\n",
      "1646592/1641221 [==============================] - 1s 0us/step\n",
      "1654784/1641221 [==============================] - 1s 0us/step\n"
     ]
    }
   ],
   "source": [
    "# 一个映射单词到整数索引的词典\n",
    "word_index = imdb.get_word_index()\n",
    "\n",
    "# 保留第一个索引\n",
    "word_index = {k:(v+3) for k,v in word_index.items()}\n",
    "word_index[\"<PAD>\"] = 0\n",
    "word_index[\"<START>\"] = 1\n",
    "word_index[\"<UNK>\"] = 2  # unknown\n",
    "word_index[\"<UNUSED>\"] = 3\n",
    "\n",
    "reverse_word_index = dict([(value, key) for (key, value) in word_index.items()])\n",
    "\n",
    "def decode_review(text):\n",
    "    return ' '.join([reverse_word_index.get(i, '?') for i in text])"
   ]
  },
  {
   "cell_type": "markdown",
   "metadata": {
    "id": "U3CNRvEZVppl"
   },
   "source": [
    "现在我们可以使用 `decode_review` 函数来显示首条评论的文本："
   ]
  },
  {
   "cell_type": "code",
   "execution_count": 7,
   "metadata": {
    "execution": {
     "iopub.execute_input": "2020-09-22T22:17:04.399629Z",
     "iopub.status.busy": "2020-09-22T22:17:04.398709Z",
     "iopub.status.idle": "2020-09-22T22:17:04.402227Z",
     "shell.execute_reply": "2020-09-22T22:17:04.401668Z"
    },
    "id": "s_OqxmH6-lkn"
   },
   "outputs": [
    {
     "data": {
      "text/plain": [
       "\"<START> this film was just brilliant casting location scenery story direction everyone's really suited the part they played and you could just imagine being there robert <UNK> is an amazing actor and now the same being director <UNK> father came from the same scottish island as myself so i loved the fact there was a real connection with this film the witty remarks throughout the film were great it was just brilliant so much that i bought the film as soon as it was released for <UNK> and would recommend it to everyone to watch and the fly fishing was amazing really cried at the end it was so sad and you know what they say if you cry at a film it must have been good and this definitely was also <UNK> to the two little boy's that played the <UNK> of norman and paul they were just brilliant children are often left out of the <UNK> list i think because the stars that play them all grown up are such a big profile for the whole film but these children are amazing and should be praised for what they have done don't you think the whole story was so lovely because it was true and was someone's life after all that was shared with us all\""
      ]
     },
     "execution_count": 7,
     "metadata": {},
     "output_type": "execute_result"
    }
   ],
   "source": [
    "decode_review(train_data[0])"
   ]
  },
  {
   "cell_type": "markdown",
   "metadata": {
    "id": "lFP_XKVRp4_S"
   },
   "source": [
    "## 准备数据\n",
    "\n",
    "影评——即整数数组必须在输入神经网络之前转换为张量。这种转换可以通过以下两种方式来完成：\n",
    "\n",
    "* 将数组转换为表示单词出现与否的由 0 和 1 组成的向量，类似于 one-hot 编码。例如，序列[3, 5]将转换为一个 10,000 维的向量，该向量除了索引为 3 和 5 的位置是 1 以外，其他都为 0。然后，将其作为网络的首层——一个可以处理浮点型向量数据的稠密层。不过，这种方法需要大量的内存，需要一个大小为 `num_words * num_reviews` 的矩阵。\n",
    "\n",
    "* 或者，我们可以填充数组来保证输入数据具有相同的长度，然后创建一个大小为 `max_length * num_reviews` 的整型张量。我们可以使用能够处理此形状数据的嵌入层作为网络中的第一层。\n",
    "\n",
    "在本教程中，我们将使用第二种方法。\n",
    "\n",
    "由于电影评论长度必须相同，我们将使用 [pad_sequences](https://tensorflow.google.cn/api_docs/python/tf/keras/preprocessing/sequence/pad_sequences) 函数来使长度标准化："
   ]
  },
  {
   "cell_type": "code",
   "execution_count": 8,
   "metadata": {
    "execution": {
     "iopub.execute_input": "2020-09-22T22:17:04.410869Z",
     "iopub.status.busy": "2020-09-22T22:17:04.410199Z",
     "iopub.status.idle": "2020-09-22T22:17:05.421545Z",
     "shell.execute_reply": "2020-09-22T22:17:05.420972Z"
    },
    "id": "2jQv-omsHurp"
   },
   "outputs": [],
   "source": [
    "train_data = keras.preprocessing.sequence.pad_sequences(train_data,\n",
    "                                                        value=word_index[\"<PAD>\"],\n",
    "                                                        padding='post',\n",
    "                                                        maxlen=256)\n",
    "\n",
    "test_data = keras.preprocessing.sequence.pad_sequences(test_data,\n",
    "                                                       value=word_index[\"<PAD>\"],\n",
    "                                                       padding='post',\n",
    "                                                       maxlen=256)"
   ]
  },
  {
   "cell_type": "markdown",
   "metadata": {
    "id": "VO5MBpyQdipD"
   },
   "source": [
    "现在让我们看下样本的长度："
   ]
  },
  {
   "cell_type": "code",
   "execution_count": 9,
   "metadata": {
    "execution": {
     "iopub.execute_input": "2020-09-22T22:17:05.426334Z",
     "iopub.status.busy": "2020-09-22T22:17:05.425671Z",
     "iopub.status.idle": "2020-09-22T22:17:05.428696Z",
     "shell.execute_reply": "2020-09-22T22:17:05.428222Z"
    },
    "id": "USSSBnkE-lky"
   },
   "outputs": [
    {
     "data": {
      "text/plain": [
       "(256, 256)"
      ]
     },
     "execution_count": 9,
     "metadata": {},
     "output_type": "execute_result"
    }
   ],
   "source": [
    "len(train_data[0]), len(train_data[1])"
   ]
  },
  {
   "cell_type": "markdown",
   "metadata": {
    "id": "QJoxZGyfjT5V"
   },
   "source": [
    "并检查一下首条评论（当前已经填充）："
   ]
  },
  {
   "cell_type": "code",
   "execution_count": 10,
   "metadata": {
    "execution": {
     "iopub.execute_input": "2020-09-22T22:17:05.433220Z",
     "iopub.status.busy": "2020-09-22T22:17:05.432530Z",
     "iopub.status.idle": "2020-09-22T22:17:05.434878Z",
     "shell.execute_reply": "2020-09-22T22:17:05.435395Z"
    },
    "id": "TG8X9cqi-lk9"
   },
   "outputs": [
    {
     "name": "stdout",
     "output_type": "stream",
     "text": [
      "[   1   14   22   16   43  530  973 1622 1385   65  458 4468   66 3941\n",
      "    4  173   36  256    5   25  100   43  838  112   50  670    2    9\n",
      "   35  480  284    5  150    4  172  112  167    2  336  385   39    4\n",
      "  172 4536 1111   17  546   38   13  447    4  192   50   16    6  147\n",
      " 2025   19   14   22    4 1920 4613  469    4   22   71   87   12   16\n",
      "   43  530   38   76   15   13 1247    4   22   17  515   17   12   16\n",
      "  626   18    2    5   62  386   12    8  316    8  106    5    4 2223\n",
      " 5244   16  480   66 3785   33    4  130   12   16   38  619    5   25\n",
      "  124   51   36  135   48   25 1415   33    6   22   12  215   28   77\n",
      "   52    5   14  407   16   82    2    8    4  107  117 5952   15  256\n",
      "    4    2    7 3766    5  723   36   71   43  530  476   26  400  317\n",
      "   46    7    4    2 1029   13  104   88    4  381   15  297   98   32\n",
      " 2071   56   26  141    6  194 7486   18    4  226   22   21  134  476\n",
      "   26  480    5  144   30 5535   18   51   36   28  224   92   25  104\n",
      "    4  226   65   16   38 1334   88   12   16  283    5   16 4472  113\n",
      "  103   32   15   16 5345   19  178   32    0    0    0    0    0    0\n",
      "    0    0    0    0    0    0    0    0    0    0    0    0    0    0\n",
      "    0    0    0    0    0    0    0    0    0    0    0    0    0    0\n",
      "    0    0    0    0]\n"
     ]
    }
   ],
   "source": [
    "print(train_data[0])"
   ]
  },
  {
   "cell_type": "markdown",
   "metadata": {
    "id": "LLC02j2g-llC"
   },
   "source": [
    "## 构建模型\n",
    "\n",
    "神经网络由堆叠的层来构建，这需要从两个主要方面来进行体系结构决策：\n",
    "\n",
    "* 模型里有多少层？\n",
    "* 每个层里有多少*隐层单元（hidden units）*？\n",
    "\n",
    "在此样本中，输入数据包含一个单词索引的数组。要预测的标签为 0 或 1。让我们来为该问题构建一个模型："
   ]
  },
  {
   "cell_type": "code",
   "execution_count": 11,
   "metadata": {
    "execution": {
     "iopub.execute_input": "2020-09-22T22:17:05.440555Z",
     "iopub.status.busy": "2020-09-22T22:17:05.439881Z",
     "iopub.status.idle": "2020-09-22T22:17:07.115874Z",
     "shell.execute_reply": "2020-09-22T22:17:07.116285Z"
    },
    "id": "xpKOoWgu-llD"
   },
   "outputs": [
    {
     "name": "stdout",
     "output_type": "stream",
     "text": [
      "Metal device set to: Apple M1\n",
      "\n",
      "systemMemory: 8.00 GB\n",
      "maxCacheSize: 2.67 GB\n",
      "\n",
      "Model: \"sequential\"\n",
      "_________________________________________________________________\n",
      " Layer (type)                Output Shape              Param #   \n",
      "=================================================================\n",
      " embedding (Embedding)       (None, None, 16)          160000    \n",
      "                                                                 \n",
      " global_average_pooling1d (G  (None, 16)               0         \n",
      " lobalAveragePooling1D)                                          \n",
      "                                                                 \n",
      " dense (Dense)               (None, 16)                272       \n",
      "                                                                 \n",
      " dense_1 (Dense)             (None, 1)                 17        \n",
      "                                                                 \n",
      "=================================================================\n",
      "Total params: 160,289\n",
      "Trainable params: 160,289\n",
      "Non-trainable params: 0\n",
      "_________________________________________________________________\n"
     ]
    },
    {
     "name": "stderr",
     "output_type": "stream",
     "text": [
      "2022-05-01 18:11:50.785787: I tensorflow/core/common_runtime/pluggable_device/pluggable_device_factory.cc:305] Could not identify NUMA node of platform GPU ID 0, defaulting to 0. Your kernel may not have been built with NUMA support.\n",
      "2022-05-01 18:11:50.785946: I tensorflow/core/common_runtime/pluggable_device/pluggable_device_factory.cc:271] Created TensorFlow device (/job:localhost/replica:0/task:0/device:GPU:0 with 0 MB memory) -> physical PluggableDevice (device: 0, name: METAL, pci bus id: <undefined>)\n"
     ]
    }
   ],
   "source": [
    "# 输入形状是用于电影评论的词汇数目（10,000 词）\n",
    "vocab_size = 10000\n",
    "\n",
    "model = keras.Sequential()\n",
    "model.add(keras.layers.Embedding(vocab_size, 16))\n",
    "model.add(keras.layers.GlobalAveragePooling1D())\n",
    "model.add(keras.layers.Dense(16, activation='relu'))\n",
    "model.add(keras.layers.Dense(1, activation='sigmoid'))\n",
    "\n",
    "model.summary()"
   ]
  },
  {
   "cell_type": "markdown",
   "metadata": {
    "id": "6PbKQ6mucuKL"
   },
   "source": [
    "层按顺序堆叠以构建分类器：\n",
    "\n",
    "1. 第一层是`嵌入（Embedding）`层。该层采用整数编码的词汇表，并查找每个词索引的嵌入向量（embedding vector）。这些向量是通过模型训练学习到的。向量向输出数组增加了一个维度。得到的维度为：`(batch, sequence, embedding)`。\n",
    "2. 接下来，`GlobalAveragePooling1D` 将通过对序列维度求平均值来为每个样本返回一个定长输出向量。这允许模型以尽可能最简单的方式处理变长输入。\n",
    "3. 该定长输出向量通过一个有 16 个隐层单元的全连接（`Dense`）层传输。\n",
    "4. 最后一层与单个输出结点密集连接。使用 `Sigmoid` 激活函数，其函数值为介于 0 与 1 之间的浮点数，表示概率或置信度。"
   ]
  },
  {
   "cell_type": "markdown",
   "metadata": {
    "id": "0XMwnDOp-llH"
   },
   "source": [
    "### 隐层单元\n",
    "\n",
    "上述模型在输入输出之间有两个中间层或“隐藏层”。输出（单元，结点或神经元）的数量即为层表示空间的维度。换句话说，是学习内部表示时网络所允许的自由度。\n",
    "\n",
    "如果模型具有更多的隐层单元（更高维度的表示空间）和/或更多层，则可以学习到更复杂的表示。但是，这会使网络的计算成本更高，并且可能导致学习到不需要的模式——一些能够在训练数据上而不是测试数据上改善性能的模式。这被称为*过拟合（overfitting）*，我们稍后会对此进行探究。"
   ]
  },
  {
   "cell_type": "markdown",
   "metadata": {
    "id": "L4EqVWg4-llM"
   },
   "source": [
    "### 损失函数与优化器\n",
    "\n",
    "一个模型需要损失函数和优化器来进行训练。由于这是一个二分类问题且模型输出概率值（一个使用 sigmoid 激活函数的单一单元层），我们将使用 `binary_crossentropy` 损失函数。\n",
    "\n",
    "这不是损失函数的唯一选择，例如，您可以选择 `mean_squared_error` 。但是，一般来说 `binary_crossentropy` 更适合处理概率——它能够度量概率分布之间的“距离”，或者在我们的示例中，指的是度量 ground-truth 分布与预测值之间的“距离”。\n",
    "\n",
    "稍后，当我们研究回归问题（例如，预测房价）时，我们将介绍如何使用另一种叫做均方误差的损失函数。\n",
    "\n",
    "现在，配置模型来使用优化器和损失函数："
   ]
  },
  {
   "cell_type": "code",
   "execution_count": 12,
   "metadata": {
    "execution": {
     "iopub.execute_input": "2020-09-22T22:17:07.129621Z",
     "iopub.status.busy": "2020-09-22T22:17:07.128837Z",
     "iopub.status.idle": "2020-09-22T22:17:07.136631Z",
     "shell.execute_reply": "2020-09-22T22:17:07.137057Z"
    },
    "id": "Mr0GP-cQ-llN"
   },
   "outputs": [],
   "source": [
    "model.compile(optimizer='adam',\n",
    "              loss='binary_crossentropy',\n",
    "              metrics=['accuracy'])"
   ]
  },
  {
   "cell_type": "markdown",
   "metadata": {
    "id": "hCWYwkug-llQ"
   },
   "source": [
    "## 创建一个验证集\n",
    "\n",
    "在训练时，我们想要检查模型在未见过的数据上的准确率（accuracy）。通过从原始训练数据中分离 10,000 个样本来创建一个*验证集*。（为什么现在不使用测试集？我们的目标是只使用训练数据来开发和调整模型，然后只使用一次测试数据来评估准确率（accuracy））。"
   ]
  },
  {
   "cell_type": "code",
   "execution_count": 13,
   "metadata": {
    "execution": {
     "iopub.execute_input": "2020-09-22T22:17:07.141751Z",
     "iopub.status.busy": "2020-09-22T22:17:07.141114Z",
     "iopub.status.idle": "2020-09-22T22:17:07.143513Z",
     "shell.execute_reply": "2020-09-22T22:17:07.143024Z"
    },
    "id": "-NpcXY9--llS"
   },
   "outputs": [],
   "source": [
    "x_val = train_data[:10000]\n",
    "partial_x_train = train_data[10000:]\n",
    "\n",
    "y_val = train_labels[:10000]\n",
    "partial_y_train = train_labels[10000:]"
   ]
  },
  {
   "cell_type": "markdown",
   "metadata": {
    "id": "35jv_fzP-llU"
   },
   "source": [
    "## 训练模型\n",
    "\n",
    "以 512 个样本的 mini-batch 大小迭代 40 个 epoch 来训练模型。这是指对 `x_train` 和 `y_train` 张量中所有样本的的 40 次迭代。在训练过程中，监测来自验证集的 10,000 个样本上的损失值（loss）和准确率（accuracy）："
   ]
  },
  {
   "cell_type": "code",
   "execution_count": 14,
   "metadata": {
    "execution": {
     "iopub.execute_input": "2020-09-22T22:17:07.148674Z",
     "iopub.status.busy": "2020-09-22T22:17:07.147993Z",
     "iopub.status.idle": "2020-09-22T22:17:20.550190Z",
     "shell.execute_reply": "2020-09-22T22:17:20.550685Z"
    },
    "id": "D6G9oqEV-Se-"
   },
   "outputs": [
    {
     "name": "stdout",
     "output_type": "stream",
     "text": [
      "Epoch 1/40\n"
     ]
    },
    {
     "name": "stderr",
     "output_type": "stream",
     "text": [
      "2022-05-01 18:12:06.384402: W tensorflow/core/platform/profile_utils/cpu_utils.cc:128] Failed to get CPU frequency: 0 Hz\n",
      "2022-05-01 18:12:06.672449: I tensorflow/core/grappler/optimizers/custom_graph_optimizer_registry.cc:113] Plugin optimizer for device_type GPU is enabled.\n"
     ]
    },
    {
     "name": "stdout",
     "output_type": "stream",
     "text": [
      "30/30 [==============================] - 7s 179ms/step - loss: 0.6921 - accuracy: 0.6240 - val_loss: 0.6902 - val_accuracy: 0.7022\n",
      "Epoch 2/40\n"
     ]
    },
    {
     "name": "stderr",
     "output_type": "stream",
     "text": [
      "2022-05-01 18:12:13.149064: I tensorflow/core/grappler/optimizers/custom_graph_optimizer_registry.cc:113] Plugin optimizer for device_type GPU is enabled.\n"
     ]
    },
    {
     "name": "stdout",
     "output_type": "stream",
     "text": [
      "30/30 [==============================] - 5s 166ms/step - loss: 0.6864 - accuracy: 0.6992 - val_loss: 0.6821 - val_accuracy: 0.7107\n",
      "Epoch 3/40\n",
      "30/30 [==============================] - 5s 168ms/step - loss: 0.6738 - accuracy: 0.7386 - val_loss: 0.6667 - val_accuracy: 0.7520\n",
      "Epoch 4/40\n",
      "30/30 [==============================] - 5s 166ms/step - loss: 0.6522 - accuracy: 0.7763 - val_loss: 0.6418 - val_accuracy: 0.7680\n",
      "Epoch 5/40\n",
      "30/30 [==============================] - 5s 167ms/step - loss: 0.6196 - accuracy: 0.7909 - val_loss: 0.6076 - val_accuracy: 0.7828\n",
      "Epoch 6/40\n",
      "30/30 [==============================] - 5s 163ms/step - loss: 0.5774 - accuracy: 0.8080 - val_loss: 0.5660 - val_accuracy: 0.8023\n",
      "Epoch 7/40\n",
      "30/30 [==============================] - 5s 165ms/step - loss: 0.5296 - accuracy: 0.8288 - val_loss: 0.5208 - val_accuracy: 0.8180\n",
      "Epoch 8/40\n",
      "30/30 [==============================] - 5s 164ms/step - loss: 0.4806 - accuracy: 0.8445 - val_loss: 0.4789 - val_accuracy: 0.8319\n",
      "Epoch 9/40\n",
      "30/30 [==============================] - 5s 164ms/step - loss: 0.4361 - accuracy: 0.8588 - val_loss: 0.4412 - val_accuracy: 0.8451\n",
      "Epoch 10/40\n",
      "30/30 [==============================] - 5s 162ms/step - loss: 0.3969 - accuracy: 0.8710 - val_loss: 0.4103 - val_accuracy: 0.8521\n",
      "Epoch 11/40\n",
      "30/30 [==============================] - 5s 155ms/step - loss: 0.3635 - accuracy: 0.8800 - val_loss: 0.3851 - val_accuracy: 0.8568\n",
      "Epoch 12/40\n",
      "30/30 [==============================] - 5s 167ms/step - loss: 0.3354 - accuracy: 0.8895 - val_loss: 0.3649 - val_accuracy: 0.8629\n",
      "Epoch 13/40\n",
      "30/30 [==============================] - 5s 164ms/step - loss: 0.3122 - accuracy: 0.8940 - val_loss: 0.3492 - val_accuracy: 0.8678\n",
      "Epoch 14/40\n",
      "30/30 [==============================] - 5s 163ms/step - loss: 0.2920 - accuracy: 0.9014 - val_loss: 0.3390 - val_accuracy: 0.8681\n",
      "Epoch 15/40\n",
      "30/30 [==============================] - 5s 163ms/step - loss: 0.2752 - accuracy: 0.9043 - val_loss: 0.3253 - val_accuracy: 0.8747\n",
      "Epoch 16/40\n",
      "30/30 [==============================] - 5s 163ms/step - loss: 0.2589 - accuracy: 0.9119 - val_loss: 0.3169 - val_accuracy: 0.8781\n",
      "Epoch 17/40\n",
      "30/30 [==============================] - 5s 163ms/step - loss: 0.2453 - accuracy: 0.9169 - val_loss: 0.3098 - val_accuracy: 0.8800\n",
      "Epoch 18/40\n",
      "30/30 [==============================] - 5s 168ms/step - loss: 0.2325 - accuracy: 0.9209 - val_loss: 0.3044 - val_accuracy: 0.8807\n",
      "Epoch 19/40\n",
      "30/30 [==============================] - 5s 163ms/step - loss: 0.2215 - accuracy: 0.9243 - val_loss: 0.2997 - val_accuracy: 0.8799\n",
      "Epoch 20/40\n",
      "30/30 [==============================] - 5s 161ms/step - loss: 0.2113 - accuracy: 0.9277 - val_loss: 0.2957 - val_accuracy: 0.8826\n",
      "Epoch 21/40\n",
      "30/30 [==============================] - 5s 163ms/step - loss: 0.2013 - accuracy: 0.9315 - val_loss: 0.2934 - val_accuracy: 0.8826\n",
      "Epoch 22/40\n",
      "30/30 [==============================] - 5s 164ms/step - loss: 0.1923 - accuracy: 0.9361 - val_loss: 0.2903 - val_accuracy: 0.8835\n",
      "Epoch 23/40\n",
      "30/30 [==============================] - 5s 165ms/step - loss: 0.1838 - accuracy: 0.9395 - val_loss: 0.2891 - val_accuracy: 0.8841\n",
      "Epoch 24/40\n",
      "30/30 [==============================] - 5s 165ms/step - loss: 0.1762 - accuracy: 0.9427 - val_loss: 0.2872 - val_accuracy: 0.8847\n",
      "Epoch 25/40\n",
      "30/30 [==============================] - 5s 167ms/step - loss: 0.1684 - accuracy: 0.9459 - val_loss: 0.2863 - val_accuracy: 0.8845\n",
      "Epoch 26/40\n",
      "30/30 [==============================] - 5s 161ms/step - loss: 0.1615 - accuracy: 0.9486 - val_loss: 0.2862 - val_accuracy: 0.8845\n",
      "Epoch 27/40\n",
      "30/30 [==============================] - 5s 165ms/step - loss: 0.1549 - accuracy: 0.9514 - val_loss: 0.2860 - val_accuracy: 0.8868\n",
      "Epoch 28/40\n",
      "30/30 [==============================] - 5s 160ms/step - loss: 0.1486 - accuracy: 0.9546 - val_loss: 0.2861 - val_accuracy: 0.8864\n",
      "Epoch 29/40\n",
      "30/30 [==============================] - 5s 163ms/step - loss: 0.1431 - accuracy: 0.9570 - val_loss: 0.2878 - val_accuracy: 0.8856\n",
      "Epoch 30/40\n",
      "30/30 [==============================] - 5s 164ms/step - loss: 0.1374 - accuracy: 0.9581 - val_loss: 0.2886 - val_accuracy: 0.8856\n",
      "Epoch 31/40\n",
      "30/30 [==============================] - 5s 164ms/step - loss: 0.1318 - accuracy: 0.9609 - val_loss: 0.2899 - val_accuracy: 0.8858\n",
      "Epoch 32/40\n",
      "30/30 [==============================] - 5s 158ms/step - loss: 0.1263 - accuracy: 0.9635 - val_loss: 0.2910 - val_accuracy: 0.8856\n",
      "Epoch 33/40\n",
      "30/30 [==============================] - 5s 164ms/step - loss: 0.1215 - accuracy: 0.9647 - val_loss: 0.2925 - val_accuracy: 0.8865\n",
      "Epoch 34/40\n",
      "30/30 [==============================] - 5s 160ms/step - loss: 0.1165 - accuracy: 0.9673 - val_loss: 0.2967 - val_accuracy: 0.8833\n",
      "Epoch 35/40\n",
      "30/30 [==============================] - 5s 161ms/step - loss: 0.1126 - accuracy: 0.9688 - val_loss: 0.2969 - val_accuracy: 0.8850\n",
      "Epoch 36/40\n",
      "30/30 [==============================] - 5s 165ms/step - loss: 0.1087 - accuracy: 0.9699 - val_loss: 0.3019 - val_accuracy: 0.8827\n",
      "Epoch 37/40\n",
      "30/30 [==============================] - 5s 163ms/step - loss: 0.1039 - accuracy: 0.9719 - val_loss: 0.3031 - val_accuracy: 0.8848\n",
      "Epoch 38/40\n",
      "30/30 [==============================] - 5s 164ms/step - loss: 0.0998 - accuracy: 0.9731 - val_loss: 0.3072 - val_accuracy: 0.8826\n",
      "Epoch 39/40\n",
      "30/30 [==============================] - 5s 161ms/step - loss: 0.0966 - accuracy: 0.9737 - val_loss: 0.3089 - val_accuracy: 0.8820\n",
      "Epoch 40/40\n",
      "30/30 [==============================] - 5s 165ms/step - loss: 0.0922 - accuracy: 0.9759 - val_loss: 0.3131 - val_accuracy: 0.8823\n"
     ]
    }
   ],
   "source": [
    "history = model.fit(partial_x_train,\n",
    "                    partial_y_train,\n",
    "                    epochs=40,\n",
    "                    batch_size=512,\n",
    "                    validation_data=(x_val, y_val),\n",
    "                    verbose=1)"
   ]
  },
  {
   "cell_type": "markdown",
   "metadata": {
    "id": "9EEGuDVuzb5r"
   },
   "source": [
    "## 评估模型\n",
    "\n",
    "我们来看一下模型的性能如何。将返回两个值。损失值（loss）（一个表示误差的数字，值越低越好）与准确率（accuracy）。"
   ]
  },
  {
   "cell_type": "code",
   "execution_count": 15,
   "metadata": {
    "execution": {
     "iopub.execute_input": "2020-09-22T22:17:20.556603Z",
     "iopub.status.busy": "2020-09-22T22:17:20.555467Z",
     "iopub.status.idle": "2020-09-22T22:17:22.053464Z",
     "shell.execute_reply": "2020-09-22T22:17:22.053982Z"
    },
    "id": "zOMKywn4zReN"
   },
   "outputs": [
    {
     "name": "stdout",
     "output_type": "stream",
     "text": [
      "782/782 - 2s - loss: 0.3352 - accuracy: 0.8704 - 2s/epoch - 3ms/step\n",
      "[0.33516010642051697, 0.870400071144104]\n"
     ]
    }
   ],
   "source": [
    "results = model.evaluate(test_data,  test_labels, verbose=2)\n",
    "\n",
    "print(results)"
   ]
  },
  {
   "cell_type": "markdown",
   "metadata": {
    "id": "z1iEXVTR0Z2t"
   },
   "source": [
    "这种十分朴素的方法得到了约 87% 的准确率（accuracy）。若采用更好的方法，模型的准确率应当接近 95%。"
   ]
  },
  {
   "cell_type": "markdown",
   "metadata": {
    "id": "5KggXVeL-llZ"
   },
   "source": [
    "## 创建一个准确率（accuracy）和损失值（loss）随时间变化的图表\n",
    "\n",
    "`model.fit()` 返回一个 `History` 对象，该对象包含一个字典，其中包含训练阶段所发生的一切事件："
   ]
  },
  {
   "cell_type": "code",
   "execution_count": 16,
   "metadata": {
    "execution": {
     "iopub.execute_input": "2020-09-22T22:17:22.058716Z",
     "iopub.status.busy": "2020-09-22T22:17:22.057997Z",
     "iopub.status.idle": "2020-09-22T22:17:22.061548Z",
     "shell.execute_reply": "2020-09-22T22:17:22.061051Z"
    },
    "id": "VcvSXvhp-llb"
   },
   "outputs": [
    {
     "data": {
      "text/plain": [
       "dict_keys(['loss', 'accuracy', 'val_loss', 'val_accuracy'])"
      ]
     },
     "execution_count": 16,
     "metadata": {},
     "output_type": "execute_result"
    }
   ],
   "source": [
    "history_dict = history.history\n",
    "history_dict.keys()"
   ]
  },
  {
   "cell_type": "markdown",
   "metadata": {
    "id": "nRKsqL40-lle"
   },
   "source": [
    "有四个条目：在训练和验证期间，每个条目对应一个监控指标。我们可以使用这些条目来绘制训练与验证过程的损失值（loss）和准确率（accuracy），以便进行比较。"
   ]
  },
  {
   "cell_type": "code",
   "execution_count": 17,
   "metadata": {
    "execution": {
     "iopub.execute_input": "2020-09-22T22:17:22.067719Z",
     "iopub.status.busy": "2020-09-22T22:17:22.067056Z",
     "iopub.status.idle": "2020-09-22T22:17:22.378004Z",
     "shell.execute_reply": "2020-09-22T22:17:22.377445Z"
    },
    "id": "nGoYf2Js-lle"
   },
   "outputs": [
    {
     "data": {
      "image/png": "[encoded data removed]",
      "text/plain": [
       "<Figure size 432x288 with 1 Axes>"
      ]
     },
     "metadata": {
      "needs_background": "light"
     },
     "output_type": "display_data"
    }
   ],
   "source": [
    "import matplotlib.pyplot as plt\n",
    "\n",
    "acc = history_dict['accuracy']\n",
    "val_acc = history_dict['val_accuracy']\n",
    "loss = history_dict['loss']\n",
    "val_loss = history_dict['val_loss']\n",
    "\n",
    "epochs = range(1, len(acc) + 1)\n",
    "\n",
    "# “bo”代表 \"蓝点\"\n",
    "plt.plot(epochs, loss, 'bo', label='Training loss')\n",
    "# b代表“蓝色实线”\n",
    "plt.plot(epochs, val_loss, 'b', label='Validation loss')\n",
    "plt.title('Training and validation loss')\n",
    "plt.xlabel('Epochs')\n",
    "plt.ylabel('Loss')\n",
    "plt.legend()\n",
    "\n",
    "plt.show()"
   ]
  },
  {
   "cell_type": "code",
   "execution_count": 18,
   "metadata": {
    "execution": {
     "iopub.execute_input": "2020-09-22T22:17:22.391067Z",
     "iopub.status.busy": "2020-09-22T22:17:22.388814Z",
     "iopub.status.idle": "2020-09-22T22:17:22.539583Z",
     "shell.execute_reply": "2020-09-22T22:17:22.539059Z"
    },
    "id": "6hXx-xOv-llh"
   },
   "outputs": [
    {
     "data": {
      "image/png": "[encoded data removed]",
      "text/plain": [
       "<Figure size 432x288 with 1 Axes>"
      ]
     },
     "metadata": {
      "needs_background": "light"
     },
     "output_type": "display_data"
    }
   ],
   "source": [
    "plt.clf()   # 清除数字\n",
    "\n",
    "plt.plot(epochs, acc, 'bo', label='Training acc')\n",
    "plt.plot(epochs, val_acc, 'b', label='Validation acc')\n",
    "plt.title('Training and validation accuracy')\n",
    "plt.xlabel('Epochs')\n",
    "plt.ylabel('Accuracy')\n",
    "plt.legend()\n",
    "\n",
    "plt.show()"
   ]
  },
  {
   "cell_type": "markdown",
   "metadata": {
    "id": "oFEmZ5zq-llk"
   },
   "source": [
    "在该图中，点代表训练损失值（loss）与准确率（accuracy），实线代表验证损失值（loss）与准确率（accuracy）。\n",
    "\n",
    "注意训练损失值随每一个 epoch *下降*而训练准确率（accuracy）随每一个 epoch *上升*。这在使用梯度下降优化时是可预期的——理应在每次迭代中最小化期望值。\n",
    "\n",
    "验证过程的损失值（loss）与准确率（accuracy）的情况却并非如此——它们似乎在 20 个 epoch 后达到峰值。这是过拟合的一个实例：模型在训练数据上的表现比在以前从未见过的数据上的表现要更好。在此之后，模型过度优化并学习*特定*于训练数据的表示，而不能够*泛化*到测试数据。\n",
    "\n",
    "对于这种特殊情况，我们可以通过在 20 个左右的 epoch 后停止训练来避免过拟合。稍后，您将看到如何通过回调自动执行此操作。"
   ]
  }
 ],
 "metadata": {
  "colab": {
   "collapsed_sections": [],
   "name": "text_classification.ipynb",
   "toc_visible": true
  },
  "kernelspec": {
   "display_name": "Python 3",
   "name": "python3"
  },
  "language_info": {
   "codemirror_mode": {
    "name": "ipython",
    "version": 3
   },
   "file_extension": ".py",
   "mimetype": "text/x-python",
   "name": "python",
   "nbconvert_exporter": "python",
   "pygments_lexer": "ipython3",
   "version": "3.8.13"
  }
 },
 "nbformat": 4,
 "nbformat_minor": 0
}
