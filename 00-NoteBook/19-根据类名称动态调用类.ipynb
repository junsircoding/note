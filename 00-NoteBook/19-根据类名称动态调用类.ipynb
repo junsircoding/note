{
 "cells": [
  {
   "cell_type": "markdown",
   "metadata": {},
   "source": [
    "根据类的名称字符串动态调用类"
   ]
  },
  {
   "cell_type": "code",
   "execution_count": null,
   "metadata": {},
   "outputs": [],
   "source": [
    "# eval函数\n",
    "class MyCls:\n",
    "    def __init__(self, p1):\n",
    "        self.p1 = p1\n",
    "\n",
    "    def show(self):\n",
    "        print(self.p1)\n",
    "\n",
    "\n",
    "cls_name = \"MyCls\"\n",
    "NewCls = eval(cls_name)\n",
    "new_cls = NewCls(p1=\"test_p1\")\n",
    "new_cls.show()\n"
   ]
  }
 ],
 "metadata": {
  "interpreter": {
   "hash": "3160b320a3d098505f6069b13711aa208a544b025e74a1c73de7d3971407adcc"
  },
  "kernelspec": {
   "display_name": "Python 3.9.10 ('base')",
   "language": "python",
   "name": "python3"
  },
  "language_info": {
   "name": "python",
   "version": "3.9.10"
  },
  "orig_nbformat": 4
 },
 "nbformat": 4,
 "nbformat_minor": 2
}
