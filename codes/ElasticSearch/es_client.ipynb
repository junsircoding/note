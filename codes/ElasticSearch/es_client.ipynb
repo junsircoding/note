{
 "cells": [
  {
   "cell_type": "code",
   "execution_count": 1,
   "metadata": {},
   "outputs": [],
   "source": [
    "# ES 实例\n",
    "from elasticsearch import Elasticsearch\n",
    "es = Elasticsearch(\"http://localhost:9200\")"
   ]
  },
  {
   "cell_type": "code",
   "execution_count": null,
   "metadata": {},
   "outputs": [],
   "source": [
    "# ES 信息\n",
    "es.info()"
   ]
  },
  {
   "cell_type": "code",
   "execution_count": null,
   "metadata": {},
   "outputs": [],
   "source": [
    "# 创建名为 junsircoding2 的数据库，若已存在忽略\n",
    "es.indices.create(index='junsircoding2', ignore=400)"
   ]
  },
  {
   "cell_type": "code",
   "execution_count": 12,
   "metadata": {},
   "outputs": [
    {
     "data": {
      "text/plain": [
       "{'acknowledged': True, 'shards_acknowledged': True, 'index': 'news'}"
      ]
     },
     "execution_count": 12,
     "metadata": {},
     "output_type": "execute_result"
    }
   ],
   "source": [
    "# 创建名为 news 的数据库，若已存在忽略\n",
    "es.indices.create(index='news', ignore=400)"
   ]
  },
  {
   "cell_type": "code",
   "execution_count": null,
   "metadata": {},
   "outputs": [],
   "source": [
    "# 插入一条数据，指定ID\n",
    "data = {'title': '美国留给伊拉克的是个烂摊子吗', 'url': 'http://view.news.qq.com/zt2011/usa_iraq/index.htm'}\n",
    "es.create(index='news', doc_type='politics', id=1, body=data)"
   ]
  },
  {
   "cell_type": "code",
   "execution_count": null,
   "metadata": {},
   "outputs": [],
   "source": [
    "# 插入一条数据，不指定ID\n",
    "data = {'title': '问题二', 'url': 'http://view.news.qq.com/zt2011/usa_iraq/index.htm'}\n",
    "es.index(index='news', doc_type='politics', body=data)"
   ]
  },
  {
   "cell_type": "code",
   "execution_count": null,
   "metadata": {},
   "outputs": [],
   "source": [
    "# 更新数据\n",
    "data = {\n",
    "    'title': '美国留给伊拉克的是个烂摊子吗',\n",
    "    'url': 'http://view.news.qq.com/zt2011/usa_iraq/index.htm',\n",
    "    'date': '2011-12-16'\n",
    "}\n",
    "es.index(index='news', doc_type='politics', body=data, id=1)"
   ]
  },
  {
   "cell_type": "code",
   "execution_count": null,
   "metadata": {},
   "outputs": [],
   "source": [
    "# 删除ID为1的数据\n",
    "es.delete(index='news', doc_type='politics', id=1)·"
   ]
  },
  {
   "cell_type": "code",
   "execution_count": 21,
   "metadata": {},
   "outputs": [
    {
     "name": "stderr",
     "output_type": "stream",
     "text": [
      "/Users/junsircoding/miniconda3/envs/practice/lib/python3.8/site-packages/elasticsearch/connection/base.py:208: ElasticsearchWarning: [types removal] Specifying types in search requests is deprecated.\n",
      "  warnings.warn(message, category=ElasticsearchWarning)\n"
     ]
    },
    {
     "data": {
      "text/plain": [
       "{'took': 99,\n",
       " 'timed_out': False,\n",
       " '_shards': {'total': 1, 'successful': 1, 'skipped': 0, 'failed': 0},\n",
       " 'hits': {'total': {'value': 2, 'relation': 'eq'},\n",
       "  'max_score': 1.0,\n",
       "  'hits': [{'_index': 'news',\n",
       "    '_type': 'politics',\n",
       "    '_id': 'ega__n0BgaMttVHeM3F4',\n",
       "    '_score': 1.0,\n",
       "    '_source': {'title': '问题二',\n",
       "     'url': 'http://view.news.qq.com/zt2011/usa_iraq/index.htm'}},\n",
       "   {'_index': 'news',\n",
       "    '_type': 'politics',\n",
       "    '_id': '1',\n",
       "    '_score': 1.0,\n",
       "    '_source': {'title': '美国留给伊拉克的是个烂摊子吗',\n",
       "     'url': 'http://view.news.qq.com/zt2011/usa_iraq/index.htm',\n",
       "     'date': '2011-12-16'}}]}}"
      ]
     },
     "execution_count": 21,
     "metadata": {},
     "output_type": "execute_result"
    }
   ],
   "source": [
    "# 查询news库的内容\n",
    "es.search(index='news', doc_type='politics')"
   ]
  },
  {
   "cell_type": "code",
   "execution_count": null,
   "metadata": {},
   "outputs": [],
   "source": [
    "# 删除 junsircoding2 的数据库，若不存在忽略\n",
    "es.indices.delete(index='junsircoding2', ignore=[400, 404])"
   ]
  },
  {
   "cell_type": "code",
   "execution_count": null,
   "metadata": {},
   "outputs": [],
   "source": [
    "# 查看 ID 为 1 的记录\n",
    "es.get(index=\"junsircoding2\", id=1)"
   ]
  },
  {
   "cell_type": "code",
   "execution_count": null,
   "metadata": {},
   "outputs": [],
   "source": [
    "# 向 junsircoding 库中的表 table1 新增一条记录，指定 ID，方法一\n",
    "body = {\n",
    "  \"user\": \"张三\",\n",
    "  \"title\": \"工程师\",\n",
    "  \"desc\": \"数据库管理\"\n",
    "}\n",
    "es.index(\"junsircoding2\", body={\"doc\":body}, doc_type=None, id=1, params=None, headers=None)"
   ]
  },
  {
   "cell_type": "code",
   "execution_count": null,
   "metadata": {},
   "outputs": [],
   "source": [
    "# 向 junsircoding 库中的表 table1 新增一条记录，指定 ID，方法二\n",
    "body = {\n",
    "  \"user\": \"张三\",\n",
    "  \"title\": \"工程师\",\n",
    "  \"desc\": \"数据库管理\"\n",
    "}\n",
    "es.create(index='junsircoding2', doc_type='_doc', id='3', body=body)"
   ]
  },
  {
   "cell_type": "code",
   "execution_count": null,
   "metadata": {},
   "outputs": [],
   "source": [
    "# 更新 ID 为 1 的记录\n",
    "body = {\n",
    "  \"user\": \"张三更新\",\n",
    "  \"title\": \"工程师更新\",\n",
    "  \"desc\": \"数据库管理\"\n",
    "}\n",
    "es.update(\"junsircoding2\", 1, body={\"doc\":body}, doc_type=None, params=None, headers=None)"
   ]
  },
  {
   "cell_type": "code",
   "execution_count": null,
   "metadata": {},
   "outputs": [],
   "source": [
    "# 返回 junsircoding2 的所有记录\n",
    "es.search(index=\"junsircoding2\")"
   ]
  }
 ],
 "metadata": {
  "interpreter": {
   "hash": "97c2d50f918337e6f5595328c3ef1d97799b73af02701f182bcbacc8474c8de4"
  },
  "kernelspec": {
   "display_name": "Python 3.8.11 64-bit ('practice': conda)",
   "language": "python",
   "name": "python3"
  },
  "language_info": {
   "codemirror_mode": {
    "name": "ipython",
    "version": 3
   },
   "file_extension": ".py",
   "mimetype": "text/x-python",
   "name": "python",
   "nbconvert_exporter": "python",
   "pygments_lexer": "ipython3",
   "version": "3.8.11"
  },
  "orig_nbformat": 4
 },
 "nbformat": 4,
 "nbformat_minor": 2
}
