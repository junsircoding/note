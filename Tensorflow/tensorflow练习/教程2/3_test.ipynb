{
 "cells": [
  {
   "cell_type": "markdown",
   "metadata": {},
   "source": [
    "官方入门教程第三节"
   ]
  },
  {
   "cell_type": "code",
   "execution_count": 1,
   "metadata": {},
   "outputs": [],
   "source": [
    "import tensorflow as tf\n",
    "from tensorflow import keras as kr"
   ]
  },
  {
   "cell_type": "code",
   "execution_count": 3,
   "metadata": {},
   "outputs": [],
   "source": [
    "model = tf.keras.Sequential([\n",
    "    kr.layers.Conv2D(64, (3, 3), activation=tf.nn.relu, input_shape=(28, 28, 1)),\n",
    "    kr.layers.MaxPool2D(2, 2),\n",
    "    kr.layers.Conv2D(64, (3, 3), activation=tf.nn.relu),\n",
    "    kr.layers.MaxPool2D(2, 2),\n",
    "    kr.layers.Flatten(),\n",
    "    kr.layers.Dense(128, activation=tf.nn.relu),\n",
    "    kr.layers.Dense(10, activation=tf.nn.softmax)\n",
    "])"
   ]
  }
 ],
 "metadata": {
  "interpreter": {
   "hash": "e4bdecafe0dca4671be1f330bb66afefe9717e3009a015ec19bd1158a172ba6f"
  },
  "kernelspec": {
   "display_name": "Python 3.8.13 ('tensor_env')",
   "language": "python",
   "name": "python3"
  },
  "language_info": {
   "codemirror_mode": {
    "name": "ipython",
    "version": 3
   },
   "file_extension": ".py",
   "mimetype": "text/x-python",
   "name": "python",
   "nbconvert_exporter": "python",
   "pygments_lexer": "ipython3",
   "version": "3.8.13"
  },
  "orig_nbformat": 4
 },
 "nbformat": 4,
 "nbformat_minor": 2
}
