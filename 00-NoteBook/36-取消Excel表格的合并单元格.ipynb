{
 "cells": [
  {
   "cell_type": "markdown",
   "metadata": {},
   "source": [
    "`openpyxl` 取消 `Excel` 表格的**合并单元格**，并自动填充数据"
   ]
  },
  {
   "cell_type": "code",
   "execution_count": null,
   "metadata": {},
   "outputs": [],
   "source": [
    "from openpyxl import load_workbook\n",
    "\n",
    "# 1. 加载数据\n",
    "work_book = load_workbook(filename=\"data2.xlsx\", read_only=False)\n",
    "sheet = work_book[\"Sheet1\"]\n",
    "\n",
    "# 2. 找出所有的合并单元格的索引信息\n",
    "mc_range_list = [str(item) for item in sheet.merged_cells.ranges]\n",
    "\n",
    "# 3. 批量取消合并单元格，填充数据\n",
    "for mc_range in mc_range_list:\n",
    "    # 取得左上角值的坐标\n",
    "    top_left, bot_right = mc_range.split(\":\") # [\"A1\", \"A12\"]\n",
    "    top_left_col, top_left_row = sheet[top_left].column, sheet[top_left].row # (1, 1,)\n",
    "    bot_right_col, bot_right_row = sheet[bot_right].column, sheet[bot_right].row # (1, 12,)\n",
    "    # 记下该合并单元格的值\n",
    "    cell_value = sheet[top_left].value # 忍者\n",
    "    # 取消合并单元格\n",
    "    sheet.unmerge_cells(mc_range)\n",
    "    # 批量给子单元格赋值\n",
    "    # 遍历列\n",
    "    for col_idx in range(top_left_col, bot_right_col+1):\n",
    "        # 遍历行\n",
    "        for row_idx in range(top_left_row+1, bot_right_row+1):\n",
    "            sheet[f\"{chr(col_idx+64)}{row_idx}\"] = cell_value\n",
    "\n",
    "# 4. 保存更改            \n",
    "work_book.save(\"data3.xlsx\")\n"
   ]
  }
 ],
 "metadata": {
  "interpreter": {
   "hash": "3160b320a3d098505f6069b13711aa208a544b025e74a1c73de7d3971407adcc"
  },
  "kernelspec": {
   "display_name": "Python 3.9.10 ('base')",
   "language": "python",
   "name": "python3"
  },
  "language_info": {
   "name": "python",
   "version": "3.9.10"
  },
  "orig_nbformat": 4
 },
 "nbformat": 4,
 "nbformat_minor": 2
}
