{
 "cells": [
  {
   "cell_type": "markdown",
   "metadata": {},
   "source": [
    "将中文转换成阿拉伯数字, 整数部分 如七百二十四 -> 724"
   ]
  },
  {
   "cell_type": "code",
   "execution_count": null,
   "metadata": {},
   "outputs": [],
   "source": [
    "\n",
    "import re\n",
    "\n",
    "\n",
    "def to_num(cnnumber):\n",
    "    UTIL_CN_NUM = {\n",
    "        '零': 0, '一': 1, '二': 2, '三': 3, '四': 4,\n",
    "        '五': 5, '六': 6, '七': 7, '八': 8, '九': 9,\n",
    "        '两': 2,\n",
    "        '壹': 1, '贰': 2, '叁': 3, '肆': 4, '伍': 5,\n",
    "        '陆': 6, '柒': 7, '捌': 8, '玖': 9, '拾': 10,\n",
    "        '十': 10, '百': 100, '千': 1000, '万': 10000, '亿': 100000000,\n",
    "        '0': 0, '1': 1, '2': 2, '3': 3, '4': 4,\n",
    "        '5': 5, '6': 6, '7': 7, '8': 8, '9': 9,\n",
    "    }\n",
    "\n",
    "    numberlist = []\n",
    "    totallist = []\n",
    "\n",
    "    flag = re.search('亿', cnnumber)\n",
    "\n",
    "    if flag:\n",
    "        numberlist = re.split('亿', cnnumber)\n",
    "    else:\n",
    "        numberlist.append(cnnumber)\n",
    "\n",
    "    for numberstr in numberlist:\n",
    "        unit = 1  # 表示单位：个十百千...\n",
    "        total = 0\n",
    "        for i in range(len(numberstr) - 1, -1, -1):\n",
    "            val = UTIL_CN_NUM[numberstr[i]]\n",
    "            if val == 10 and i == 0:  # 应对 十三 十四 十*之类\n",
    "                unit = val\n",
    "                total = total + val\n",
    "            if val >= 10:\n",
    "                if unit >= 10000:\n",
    "                    unit = 10000 * val\n",
    "                else:\n",
    "                    unit = val\n",
    "            else:\n",
    "                total = total + unit * val\n",
    "        totallist.append(total)\n",
    "    if len(totallist) > 1:\n",
    "        total = totallist[0] * UTIL_CN_NUM['亿'] + totallist[1]\n",
    "    else:\n",
    "        total = int(totallist[0])\n",
    "\n",
    "    return total\n",
    "\n",
    "print(to_num(\"十八\"))\n"
   ]
  }
 ],
 "metadata": {
  "interpreter": {
   "hash": "3160b320a3d098505f6069b13711aa208a544b025e74a1c73de7d3971407adcc"
  },
  "kernelspec": {
   "display_name": "Python 3.9.10 ('base')",
   "language": "python",
   "name": "python3"
  },
  "language_info": {
   "name": "python",
   "version": "3.9.10"
  },
  "orig_nbformat": 4
 },
 "nbformat": 4,
 "nbformat_minor": 2
}
