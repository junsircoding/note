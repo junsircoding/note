{
 "cells": [
  {
   "cell_type": "code",
   "execution_count": 1,
   "metadata": {},
   "outputs": [],
   "source": [
    "import tensorflow as tf"
   ]
  },
  {
   "cell_type": "code",
   "execution_count": 2,
   "metadata": {},
   "outputs": [],
   "source": [
    "c1=tf.constant(5,name='x')\n",
    "c2=tf.constant(6.0,name='y')\n",
    "c3=tf.constant(7.0,tf.float32,name='z')"
   ]
  },
  {
   "cell_type": "code",
   "execution_count": 5,
   "metadata": {},
   "outputs": [
    {
     "name": "stdout",
     "output_type": "stream",
     "text": [
      "c1 (x): Tensor(\"x:0\", shape=TensorShape([]), dtype=int32)\n",
      "c2 (y): Tensor(\"y:0\", shape=TensorShape([]), dtype=float32)\n",
      "c3 (z): Tensor(\"z:0\", shape=TensorShape([]), dtype=float32)\n"
     ]
    }
   ],
   "source": [
    "print('c1 (x): {}'.format(c1))\n",
    "print('c2 (y): {}'.format(c2))\n",
    "print('c3 (z): {}'.format(c3))"
   ]
  },
  {
   "cell_type": "code",
   "execution_count": 6,
   "metadata": {},
   "outputs": [
    {
     "name": "stdout",
     "output_type": "stream",
     "text": [
      "run([c1,c2,c3]) : [5, 6.0, 7.0]\n"
     ]
    }
   ],
   "source": [
    "tfs = tf.InteractiveSession()\n",
    "print('run([c1,c2,c3]) : {}'.format(tfs.run([c1,c2,c3])))"
   ]
  },
  {
   "cell_type": "code",
   "execution_count": 11,
   "metadata": {},
   "outputs": [],
   "source": [
    "op1 = tf.add(c2,c3) # 相加\n",
    "op2 = tf.mul(c2, c3) # 相乘"
   ]
  },
  {
   "cell_type": "code",
   "execution_count": 13,
   "metadata": {},
   "outputs": [
    {
     "name": "stdout",
     "output_type": "stream",
     "text": [
      "op1: Tensor(\"Add_3:0\", shape=TensorShape([]), dtype=float32)\n",
      "op2: Tensor(\"Mul_2:0\", shape=TensorShape([]), dtype=float32)\n"
     ]
    }
   ],
   "source": [
    "print(\"op1: {}\".format(op1))\n",
    "print(\"op2: {}\".format(op2))"
   ]
  },
  {
   "cell_type": "code",
   "execution_count": 14,
   "metadata": {},
   "outputs": [
    {
     "name": "stdout",
     "output_type": "stream",
     "text": [
      "op1: 13.0\n",
      "op2: 42.0\n"
     ]
    }
   ],
   "source": [
    "print(\"op1: {}\".format(tfs.run(op1)))\n",
    "print(\"op2: {}\".format(tfs.run(op2)))"
   ]
  },
  {
   "cell_type": "code",
   "execution_count": 19,
   "metadata": {},
   "outputs": [
    {
     "name": "stdout",
     "output_type": "stream",
     "text": [
      "p1 : Tensor(\"Placeholder_8:0\", dtype=float32)\n",
      "p2 : Tensor(\"Placeholder_9:0\", dtype=float32)\n"
     ]
    }
   ],
   "source": [
    "p1 = tf.placeholder(tf.float32)\n",
    "p2 = tf.placeholder(tf.float32)\n",
    "print('p1 : {}'.format(p1))\n",
    "print('p2 : {}'.format(p2))"
   ]
  },
  {
   "cell_type": "code",
   "execution_count": 20,
   "metadata": {},
   "outputs": [],
   "source": [
    "op4 = p1 * p2"
   ]
  },
  {
   "cell_type": "code",
   "execution_count": 23,
   "metadata": {},
   "outputs": [
    {
     "name": "stdout",
     "output_type": "stream",
     "text": [
      "run(op4,p1:2.0, p2:3.0) : 6.0\n"
     ]
    }
   ],
   "source": [
    "print('run(op4,p1:2.0, p2:3.0) : {}'.format(tfs.run(op4,{p1:2.0, p2:3.0})))"
   ]
  }
 ],
 "metadata": {
  "interpreter": {
   "hash": "b327c4db0e9c6235d337523a398b293ad04e35a15566544786875fb577455ac5"
  },
  "kernelspec": {
   "display_name": "Python 2.7.18 ('tensor1')",
   "language": "python",
   "name": "python3"
  },
  "language_info": {
   "codemirror_mode": {
    "name": "ipython",
    "version": 2
   },
   "file_extension": ".py",
   "mimetype": "text/x-python",
   "name": "python",
   "nbconvert_exporter": "python",
   "pygments_lexer": "ipython2",
   "version": "2.7.18"
  },
  "orig_nbformat": 4
 },
 "nbformat": 4,
 "nbformat_minor": 2
}
