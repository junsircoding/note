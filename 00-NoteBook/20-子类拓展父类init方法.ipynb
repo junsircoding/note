{
 "cells": [
  {
   "cell_type": "markdown",
   "metadata": {},
   "source": [
    "# 子类继承父类的init方法并拓展（Python3）"
   ]
  },
  {
   "cell_type": "markdown",
   "metadata": {},
   "source": [
    "super 方式"
   ]
  },
  {
   "cell_type": "code",
   "execution_count": null,
   "metadata": {},
   "outputs": [],
   "source": [
    "class P:\n",
    "    \"\"\"父类\n",
    "    \"\"\"\n",
    "\n",
    "    def __init__(self, p1):\n",
    "        self.p1 = p1\n",
    "\n",
    "\n",
    "class C(P):\n",
    "    \"\"\"子类\n",
    "    \"\"\"\n",
    "\n",
    "    def __init__(self, p1, p2):\n",
    "        super(C, self).__init__(p1)\n",
    "        self.p2 = p2\n",
    "\n",
    "\n",
    "if __name__ == \"__main__\":\n",
    "    c = C(\n",
    "        p1=\"p1\",\n",
    "        p2=\"p2\"\n",
    "    )\n",
    "    print(c.p1)\n",
    "    print(c.p2)\n"
   ]
  },
  {
   "cell_type": "markdown",
   "metadata": {},
   "source": [
    "property 方式"
   ]
  },
  {
   "cell_type": "code",
   "execution_count": null,
   "metadata": {},
   "outputs": [],
   "source": [
    "class P:\n",
    "    \"\"\"父类\n",
    "    \"\"\"\n",
    "\n",
    "    def __init__(self, p1):\n",
    "        self.p1 = p1\n",
    "\n",
    "\n",
    "class C(P):\n",
    "    \"\"\"子类\n",
    "    \"\"\"\n",
    "    @property\n",
    "    def p2(self):\n",
    "        if \"_p2\" not in self.__dict__.keys():\n",
    "            self.p2 = \"p2\"\n",
    "            return self._p2\n",
    "\n",
    "    @p2.setter\n",
    "    def p2(self, value):\n",
    "        self._p2 = value\n",
    "\n",
    "\n",
    "if __name__ == \"__main__\":\n",
    "    c = C(\n",
    "        p1=\"p1\"\n",
    "    )\n",
    "    print(c.p1)\n",
    "    print(c.p2)\n"
   ]
  }
 ],
 "metadata": {
  "interpreter": {
   "hash": "3160b320a3d098505f6069b13711aa208a544b025e74a1c73de7d3971407adcc"
  },
  "kernelspec": {
   "display_name": "Python 3.9.10 ('base')",
   "language": "python",
   "name": "python3"
  },
  "language_info": {
   "name": "python",
   "version": "3.9.10"
  },
  "orig_nbformat": 4
 },
 "nbformat": 4,
 "nbformat_minor": 2
}
