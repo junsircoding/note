{
 "cells": [
  {
   "cell_type": "markdown",
   "metadata": {},
   "source": [
    "字典递归输出\n",
    "\n",
    "递归\n",
    "期望输出：\n",
    "```json\n",
    "{\n",
    "    \"a\":{\n",
    "        \"b\":{\n",
    "            \"c\":{\n",
    "                \"d\":{}\n",
    "            }\n",
    "        }\n",
    "    }\n",
    "}\n",
    "```"
   ]
  },
  {
   "cell_type": "code",
   "execution_count": null,
   "metadata": {},
   "outputs": [],
   "source": [
    "def f(x, d, idx):\n",
    "    if idx == len(d) - 2:\n",
    "        return x\n",
    "    child = {d[idx+1]: {}}\n",
    "    x[d[idx]] = child\n",
    "    return f(child, d, idx+1)\n",
    "\n",
    "\n",
    "def fun(fat, data, index):\n",
    "    if len(data) == index:\n",
    "        return {}\n",
    "\n",
    "    return {data[index]: fun(fat, data, index+1)}\n",
    "\n",
    "\n",
    "data = ('a', 'b', 'c', 'd')\n",
    "dd = fun({}, data, 0)\n",
    "print(dd)\n",
    "\n",
    "\n",
    "data = (\"a\", \"b\", \"c\", \"d\")\n",
    "print(f({}, data, 0))\n",
    "\n",
    "\n",
    "def fun(data, index):\n",
    "    if len(data) == index:\n",
    "        return {}\n",
    "\n",
    "    return {data[index]: fun(data, index+1)}\n",
    "\n",
    "\n",
    "# 图中的fat参数用不到\n",
    "data = ('a', 'b', 'c', 'd', 'e')\n",
    "dd = fun(data, 0)\n",
    "print(dd)\n"
   ]
  }
 ],
 "metadata": {
  "interpreter": {
   "hash": "3160b320a3d098505f6069b13711aa208a544b025e74a1c73de7d3971407adcc"
  },
  "kernelspec": {
   "display_name": "Python 3.9.10 ('base')",
   "language": "python",
   "name": "python3"
  },
  "language_info": {
   "name": "python",
   "version": "3.9.10"
  },
  "orig_nbformat": 4
 },
 "nbformat": 4,
 "nbformat_minor": 2
}
