{
 "cells": [
  {
   "cell_type": "code",
   "execution_count": null,
   "metadata": {},
   "outputs": [],
   "source": [
    "import csv\n",
    "import chardet\n",
    "\n",
    "# 检测文件编码\n",
    "with open(\"./data.csv\", \"rb\") as f:\n",
    "    data = f.read()\n",
    "    chardet.detect(data)\n",
    "\n",
    "# 读取 csv 文件\n",
    "with open(\"./data.csv\", \"r\", encoding=\"utf-8\") as f:\n",
    "    csv_reader = csv.reader(f, delimiter=\",\")\n",
    "    data_list = [row for row in csv_reader]\n",
    "\n",
    "# 新建 csv 文件\n",
    "data_list = [\n",
    "    [\"春\", \"眠\", \"不\", \"觉\", \"晓\"],\n",
    "    [\"处\", \"处\", \"闻\", \"啼\", \"鸟\"],\n",
    "    [\"夜\", \"来\", \"风\", \"雨\", \"声\"],\n",
    "    [\"花\", \"落\", \"知\", \"多\", \"少\"]\n",
    "]\n",
    "with open(\"./data2.csv\", \"w\", encoding=\"utf-8-sig\", newline=\"\") as f:\n",
    "    csv_writer = csv.writer(f)\n",
    "    csv_writer.writerow([\"第一列\", \"第二列\", \"第三列\", \"第四列\", \"第五列\"])\n",
    "    csv_writer.writerows(data_list)"
   ]
  }
 ],
 "metadata": {
  "language_info": {
   "name": "python"
  },
  "orig_nbformat": 4
 },
 "nbformat": 4,
 "nbformat_minor": 2
}
