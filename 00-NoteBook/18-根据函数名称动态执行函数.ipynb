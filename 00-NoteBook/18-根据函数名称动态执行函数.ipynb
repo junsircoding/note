{
 "cells": [
  {
   "cell_type": "markdown",
   "metadata": {},
   "source": [
    "根据函数的名称字符串动态执行函数"
   ]
  },
  {
   "cell_type": "code",
   "execution_count": null,
   "metadata": {},
   "outputs": [],
   "source": [
    "# getattr函数\n",
    "class M:\n",
    "    def __init__(self):\n",
    "        pass\n",
    "\n",
    "    def exam_func(self):\n",
    "        print(\"running\")\n",
    "\n",
    "\n",
    "if __name__ == \"__main__\":\n",
    "    m = M()\n",
    "    getattr(m, \"exam_func\")()\n",
    "\n",
    "# out:\n",
    "# running\n"
   ]
  }
 ],
 "metadata": {
  "interpreter": {
   "hash": "3160b320a3d098505f6069b13711aa208a544b025e74a1c73de7d3971407adcc"
  },
  "kernelspec": {
   "display_name": "Python 3.9.10 ('base')",
   "language": "python",
   "name": "python3"
  },
  "language_info": {
   "name": "python",
   "version": "3.9.10"
  },
  "orig_nbformat": 4
 },
 "nbformat": 4,
 "nbformat_minor": 2
}
