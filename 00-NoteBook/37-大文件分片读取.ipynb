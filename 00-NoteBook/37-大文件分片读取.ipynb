{
 "cells": [
  {
   "cell_type": "markdown",
   "metadata": {},
   "source": [
    "大型文本文件分割, 文件逐行读取, 文件逐行追加写入\n",
    "1. 从练习目录中获取 `zhwiki-20210720-pages-json` 文件\n",
    "2. 将文件以行为单位分割成2GB一个的文件序列\n",
    "    - 写个简单的脚本, 循环逐行读取文件内容 (不要逐支字符读取)\n",
    "    - 目标文件命名规范: \\[原始文件名\\]\\_\\[数字序列符号\\]\\_\\[程序启动时间时分秒\\].json\n",
    "    - 每读一行就往目标文件里追加写一行\n",
    "    - 计数统计目标文件已写入的总字节数\n",
    "    - 如果写入字节数超过了 2GB, 就重新生成写一个目标文件, 继续写入"
   ]
  },
  {
   "cell_type": "code",
   "execution_count": null,
   "metadata": {},
   "outputs": [],
   "source": [
    "import os\n",
    "import time\n",
    "\n",
    "\n",
    "# SUB_BYTE_SIZE = 2000000000  # 2GB\n",
    "SUB_BYTE_SIZE = 20  # 2GB\n",
    "filename = 'zhwiki-20210720-pages-json'\n",
    "\n",
    "with open(filename, \"rb\") as fin:\n",
    "    sub_file_num = 1 # 子文件编号\n",
    "    sub_filename = f'{filename}_{sub_file_num}_{time.strftime(\"%H%M%S\", time.localtime())}.json'\n",
    "    fout = open(sub_filename, \"wb\")\n",
    "    for line in fin:\n",
    "        fout.write(line)\n",
    "        # 当前子文件字节数\n",
    "        current_size = os.path.getsize(sub_filename)\n",
    "        if current_size >= SUB_BYTE_SIZE: # 子文件大小达到2GB就拆分\n",
    "            sub_file_num = sub_file_num + 1\n",
    "            fout.close()\n",
    "            sub_filename = f'{filename}_{sub_file_num}_{time.strftime(\"%H%M%S\", time.localtime())}.json'\n",
    "            fout = open(sub_filename, \"wb\")\n",
    "    fout.close()"
   ]
  }
 ],
 "metadata": {
  "interpreter": {
   "hash": "3160b320a3d098505f6069b13711aa208a544b025e74a1c73de7d3971407adcc"
  },
  "kernelspec": {
   "display_name": "Python 3.9.10 ('base')",
   "language": "python",
   "name": "python3"
  },
  "language_info": {
   "name": "python",
   "version": "3.9.13"
  },
  "orig_nbformat": 4
 },
 "nbformat": 4,
 "nbformat_minor": 2
}
