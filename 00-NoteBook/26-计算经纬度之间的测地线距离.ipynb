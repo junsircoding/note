{
 "cells": [
  {
   "cell_type": "markdown",
   "metadata": {},
   "source": [
    "计算经纬度之间的测地线距离\n",
    "\n",
    "纬度 latitude, 经度 longitude\n",
    "\n",
    "纬度 ±0.01, 测地线距离 ±1.105746174097012 KM\n",
    "\n",
    "经度 ±0.01, 测地线距离 ±1.1130264976969 KM\n",
    "\n",
    "pip install geopy"
   ]
  },
  {
   "cell_type": "code",
   "execution_count": null,
   "metadata": {},
   "outputs": [],
   "source": [
    "from geopy.distance import geodesic\n",
    "\n",
    "geodesic((40, 160), (40.1, 160.1)).km # 参数顺序: 纬度, 经度"
   ]
  }
 ],
 "metadata": {
  "interpreter": {
   "hash": "3160b320a3d098505f6069b13711aa208a544b025e74a1c73de7d3971407adcc"
  },
  "kernelspec": {
   "display_name": "Python 3.9.10 ('base')",
   "language": "python",
   "name": "python3"
  },
  "language_info": {
   "name": "python",
   "version": "3.9.10"
  },
  "orig_nbformat": 4
 },
 "nbformat": 4,
 "nbformat_minor": 2
}
