{
 "cells": [
  {
   "cell_type": "markdown",
   "metadata": {},
   "source": [
    "将信息按照每条长度不大于1000拆分"
   ]
  },
  {
   "cell_type": "code",
   "execution_count": null,
   "metadata": {},
   "outputs": [],
   "source": [
    "msg = \"xx*xx\"\n",
    "msg_cut = msg.split(\"*\", -1)\n",
    "# 将信息按照每条长度不大于1000拆分\n",
    "msg_list = []\n",
    "temp_msg = \"\"\n",
    "for index in range(len(msg_cut)):\n",
    "    if len(temp_msg) + len(msg_cut[index]) < 1000:\n",
    "        temp_msg = temp_msg + msg_cut[index]\n",
    "    else:\n",
    "        msg_list.append(temp_msg)\n",
    "        temp_msg = \"\"\n",
    "        index = index - 1"
   ]
  }
 ],
 "metadata": {
  "interpreter": {
   "hash": "3160b320a3d098505f6069b13711aa208a544b025e74a1c73de7d3971407adcc"
  },
  "kernelspec": {
   "display_name": "Python 3.9.10 ('base')",
   "language": "python",
   "name": "python3"
  },
  "language_info": {
   "name": "python",
   "version": "3.9.10"
  },
  "orig_nbformat": 4
 },
 "nbformat": 4,
 "nbformat_minor": 2
}
