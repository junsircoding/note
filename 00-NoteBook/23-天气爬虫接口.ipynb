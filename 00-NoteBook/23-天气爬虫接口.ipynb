{
 "cells": [
  {
   "cell_type": "code",
   "execution_count": 5,
   "metadata": {},
   "outputs": [
    {
     "name": "stdout",
     "output_type": "stream",
     "text": [
      "{'results': [{'location': {'id': 'WX4FBXXFKE4F', 'name': '北京', 'country': 'CN', 'path': '北京,北京,中国', 'timezone': 'Asia/Shanghai', 'timezone_offset': '+08:00'}, 'daily': [{'date': '2022-06-07', 'text_day': '多云', 'code_day': '4', 'text_night': '小雨', 'code_night': '13', 'high': '27', 'low': '16', 'rainfall': '3.75', 'precip': '0.58', 'wind_direction': '南', 'wind_direction_degree': '180', 'wind_speed': '23.4', 'wind_scale': '4', 'humidity': '55'}, {'date': '2022-06-08', 'text_day': '阴', 'code_day': '9', 'text_night': '多云', 'code_night': '4', 'high': '25', 'low': '15', 'rainfall': '0.00', 'precip': '0.00', 'wind_direction': '东', 'wind_direction_degree': '90', 'wind_speed': '8.4', 'wind_scale': '2', 'humidity': '71'}, {'date': '2022-06-09', 'text_day': '多云', 'code_day': '4', 'text_night': '多云', 'code_night': '4', 'high': '29', 'low': '17', 'rainfall': '0.00', 'precip': '0.00', 'wind_direction': '东南', 'wind_direction_degree': '135', 'wind_speed': '15.3', 'wind_scale': '3', 'humidity': '70'}], 'last_update': '2022-06-07T08:00:00+08:00'}]}\n"
     ]
    }
   ],
   "source": [
    "import json\n",
    "import requests\n",
    "\n",
    "\n",
    "body = {\n",
    "    'key': 'Sjwtl3Xb6hrERaxfh',\n",
    "    'location': '北京'\n",
    "}\n",
    "url = 'https://api.seniverse.com/v3/weather/daily.json'\n",
    "result = requests.get(url=url, params=body, timeout=3)\n",
    "res = json.loads(result.text)\n",
    "print(res)\n"
   ]
  }
 ],
 "metadata": {
  "interpreter": {
   "hash": "3160b320a3d098505f6069b13711aa208a544b025e74a1c73de7d3971407adcc"
  },
  "kernelspec": {
   "display_name": "Python 3.9.10 ('base')",
   "language": "python",
   "name": "python3"
  },
  "language_info": {
   "codemirror_mode": {
    "name": "ipython",
    "version": 3
   },
   "file_extension": ".py",
   "mimetype": "text/x-python",
   "name": "python",
   "nbconvert_exporter": "python",
   "pygments_lexer": "ipython3",
   "version": "3.9.13"
  },
  "orig_nbformat": 4
 },
 "nbformat": 4,
 "nbformat_minor": 2
}
