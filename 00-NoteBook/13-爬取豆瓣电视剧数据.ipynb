{
 "cells": [
  {
   "cell_type": "markdown",
   "metadata": {},
   "source": [
    "爬取豆瓣电视剧上英剧和美剧两个分类的电视数据，地址：https://m.douban.com/tv/"
   ]
  },
  {
   "cell_type": "code",
   "execution_count": null,
   "metadata": {},
   "outputs": [],
   "source": [
    "import requests\n",
    "import json\n",
    "\n",
    "\n",
    "class Douban:\n",
    "\n",
    "    def __init__(self):\n",
    "\n",
    "        self.temp_url_list = [\n",
    "            {\n",
    "                \"temp_url\": \"https://m.douban.com/rexxar/api/v2/subject_collection/filter_tv_american_hot/items?start={}&count=18&loc_id=108288\",\n",
    "                \"referer\": \"https://m.douban.com/tv/american\"\n",
    "            },\n",
    "            {\n",
    "                \"temp_url\": \"https://m.douban.com/rexxar/api/v2/subject_collection/filter_tv_domestic_hot/items?start={}&count=18&loc_id=108288\",\n",
    "                \"referer\": \"https://m.douban.com/tv/chinese\"\n",
    "            }\n",
    "        ]\n",
    "\n",
    "        self.headers = {\n",
    "            \"User-Agent\": \"Mozilla/5.0 (Macintosh; Intel Mac OS X 10_13_4) AppleWebKit/537.36 (KHTML, like Gecko) Chrome/66.0.3359.117 Safari/537.36\"}\n",
    "\n",
    "    def parse_url(self, url, referer):  # 发送请求，获取响应\n",
    "        self.headers.update({\"Referer\": referer})\n",
    "        print(url)\n",
    "        resposne = requests.get(url, headers=self.headers)\n",
    "        return resposne.content.decode()\n",
    "\n",
    "    def get_content_list(self, json_str):  # 提取数据\n",
    "        temp_dict = json.loads(json_str)\n",
    "        content_list = temp_dict[\"subject_collection_items\"]\n",
    "        return content_list\n",
    "\n",
    "    def save_content_list(self, content_lsit):  # 保存\n",
    "        with open(\"douban.txt\", \"a\", encoding=\"utf-8\") as f:\n",
    "            for content in content_lsit:\n",
    "                f.write(json.dumps(content, ensure_ascii=False))\n",
    "                f.write(\"\\n\")\n",
    "        print(\"保存成功\")\n",
    "\n",
    "    def run(self):  # 实现主要逻辑\n",
    "        for temp_url in self.temp_url_list:\n",
    "            # 1. start_url\n",
    "            num = 0\n",
    "            while True:\n",
    "                next_url = temp_url[\"temp_url\"].format(num)\n",
    "                # 2. 发送请求，获取响应\n",
    "                json_str = self.parse_url(next_url, temp_url[\"referer\"])\n",
    "                # 3. 提取数据\n",
    "                content_lsit = self.get_content_list(json_str)\n",
    "                # 4. 保存\n",
    "                self.save_content_list(content_lsit)\n",
    "                # 5. 获取下一页的url地址，循环2-5步\n",
    "                num += 18\n",
    "                # 6. 程序终止的条件\n",
    "                if len(content_lsit) < 18:\n",
    "                    break\n",
    "\n",
    "\n",
    "if __name__ == '__main__':\n",
    "    douban = Douban()\n",
    "    douban.run()\n"
   ]
  }
 ],
 "metadata": {
  "interpreter": {
   "hash": "3160b320a3d098505f6069b13711aa208a544b025e74a1c73de7d3971407adcc"
  },
  "kernelspec": {
   "display_name": "Python 3.9.10 ('base')",
   "language": "python",
   "name": "python3"
  },
  "language_info": {
   "name": "python",
   "version": "3.9.10"
  },
  "orig_nbformat": 4
 },
 "nbformat": 4,
 "nbformat_minor": 2
}
