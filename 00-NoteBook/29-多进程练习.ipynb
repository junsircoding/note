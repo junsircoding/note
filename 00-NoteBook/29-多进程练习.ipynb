{
 "cells": [
  {
   "cell_type": "code",
   "execution_count": null,
   "metadata": {},
   "outputs": [],
   "source": [
    "import multiprocessing\n",
    "from multiprocessing import Manager\n",
    "\n",
    "\n",
    "def worker(procnum, return_list):\n",
    "    '''worker function'''\n",
    "    print(str(procnum) + ' represent!')\n",
    "    return_list.append(procnum)\n",
    "\n",
    "\n",
    "if __name__ == '__main__':\n",
    "    manager = Manager()\n",
    "    return_list = manager.list() # 也可以使用列表list\n",
    "    # return_dict = manager.dict()\n",
    "    jobs = []\n",
    "    for i in range(5):\n",
    "        p = multiprocessing.Process(target=worker, args=(i, return_list))\n",
    "        jobs.append(p)\n",
    "        p.start()\n",
    "\n",
    "    for proc in jobs:\n",
    "        proc.join()\n",
    "    print(return_list)"
   ]
  }
 ],
 "metadata": {
  "language_info": {
   "name": "python"
  },
  "orig_nbformat": 4
 },
 "nbformat": 4,
 "nbformat_minor": 2
}
