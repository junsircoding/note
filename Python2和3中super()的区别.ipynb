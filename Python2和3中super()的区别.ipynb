{
 "cells": [
  {
   "cell_type": "markdown",
   "metadata": {},
   "source": [
    "Python 2 和 3 中 `super()` 的区别"
   ]
  },
  {
   "cell_type": "code",
   "execution_count": null,
   "metadata": {},
   "outputs": [],
   "source": [
    "class A:\n",
    "    def add(self, x):\n",
    "        y = x+1\n",
    "        print(y)\n",
    "\n",
    "\n",
    "class B(A):\n",
    "    def add(self, x):\n",
    "        super().add(x)\n",
    "\n",
    "\n",
    "b = B()\n",
    "b.add(2)  # 3"
   ]
  },
  {
   "cell_type": "code",
   "execution_count": null,
   "metadata": {},
   "outputs": [],
   "source": [
    "class A(object):   # Python2.x 记得继承 object\n",
    "    def add(self, x):\n",
    "        y = x+1\n",
    "        print(y)\n",
    "\n",
    "\n",
    "class B(A):\n",
    "    def add(self, x):\n",
    "        super(B, self).add(x)\n",
    "\n",
    "\n",
    "b = B()\n",
    "b.add(2)  # 3"
   ]
  }
 ],
 "metadata": {
  "interpreter": {
   "hash": "3160b320a3d098505f6069b13711aa208a544b025e74a1c73de7d3971407adcc"
  },
  "kernelspec": {
   "display_name": "Python 3.9.10 ('base')",
   "language": "python",
   "name": "python3"
  },
  "language_info": {
   "name": "python",
   "version": "3.9.10"
  },
  "orig_nbformat": 4
 },
 "nbformat": 4,
 "nbformat_minor": 2
}
