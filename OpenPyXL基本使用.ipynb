{
 "cells": [
  {
   "cell_type": "markdown",
   "metadata": {},
   "source": [
    "OpenPyXL 基本使用"
   ]
  },
  {
   "cell_type": "code",
   "execution_count": null,
   "metadata": {},
   "outputs": [],
   "source": [
    "import openpyxl\n",
    "\n",
    "\n",
    "# TODO: 创建新表格\n",
    "# 生成一个新的工作簿\n",
    "new_work_book = openpyxl.Workbook()\n",
    "# 得到当前激活的表格\n",
    "new_sheet = new_work_book.active\n",
    "# 创建一个新表格\n",
    "new_work_book.create_sheet(\"new_sheet_1\")\n",
    "new_sheet_1 = new_work_book[\"new_sheet_1\"]\n",
    "# 给新表格命名\n",
    "new_sheet.title = \"Sheet1\"\n",
    "# 直接根据行列坐标赋值\n",
    "new_sheet[\"F4\"] = \"数据\"\n",
    "# 将 ASCII 数字转为对应大写字母, 从 0 开始 `chr(n+64)`\n",
    "# 批量追加数据\n",
    "data_list = [\n",
    "    [\"春\", \"眠\", \"不\", \"觉\", \"晓\"],\n",
    "    [\"处\", \"处\", \"闻\", \"啼\", \"鸟\"],\n",
    "    [\"夜\", \"来\", \"风\", \"雨\", \"声\"],\n",
    "    [\"花\", \"落\", \"知\", \"多\", \"少\"]\n",
    "]\n",
    "for new_row in data_list:\n",
    "    new_sheet.append(new_row)\n",
    "new_work_book.save(\"./data2.xlsx\")\n",
    "\n",
    "\n",
    "# TODO: 读取现有表格\n",
    "# 读取工作簿对象\n",
    "work_book = openpyxl.load_workbook(\"./data.xlsx\")\n",
    "# 获取表格名称列表\n",
    "sheet_names = work_book.sheetnames\n",
    "# 拿到某个表格\n",
    "sheet = work_book[\"数据源一\"]\n",
    "# 表格名称\n",
    "print(sheet.title)\n",
    "# 表格最大行数\n",
    "print(sheet.max_row)\n",
    "# 表格最大列数\n",
    "print(sheet.max_column)\n",
    "# 遍历表格数据\n",
    "for row in sheet.rows:\n",
    "    row_col_nums = []\n",
    "    for cell in row:\n",
    "        row_num = cell.row  # 行号\n",
    "        col_num = cell.column  # 列号\n",
    "        cell_value = cell.value  # 单元格数据\n",
    "        row_col_nums.append(f\"[{col_num}-{row_num}]:{cell_value}\")\n",
    "    print(row_col_nums)\n",
    "# 获取某一单元格数据\n",
    "print(sheet['A1'].value)\n",
    "print(sheet.cell(2, 2).value)\n",
    "# 修改数据\n",
    "sheet.cell(2, 3, '0')\n",
    "sheet[\"B2\"] = \"Peking\"\n",
    "# 保存修改\n",
    "work_book.save(filename='DataSource\\\\myfile.xlsx')\n"
   ]
  }
 ],
 "metadata": {
  "interpreter": {
   "hash": "3160b320a3d098505f6069b13711aa208a544b025e74a1c73de7d3971407adcc"
  },
  "kernelspec": {
   "display_name": "Python 3.9.10 ('base')",
   "language": "python",
   "name": "python3"
  },
  "language_info": {
   "name": "python",
   "version": "3.9.10"
  },
  "orig_nbformat": 4
 },
 "nbformat": 4,
 "nbformat_minor": 2
}
